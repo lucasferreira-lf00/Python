{
 "cells": [
  {
   "attachments": {},
   "cell_type": "markdown",
   "metadata": {},
   "source": [
    "### Monitorar valores de ações"
   ]
  },
  {
   "cell_type": "code",
   "execution_count": 4,
   "metadata": {},
   "outputs": [
    {
     "name": "stdout",
     "output_type": "stream",
     "text": [
      "O valor mais recente é de: R$150\n",
      "O valor mais alto é de: R$311\n",
      "O valor mais baixo é de: R$150\n"
     ]
    }
   ],
   "source": [
    "# O objetivo do sistema é identificar e imprimir o valor de ação mais recente, o maior de todos os tempos e o menor utilizando lista\n",
    "\n",
    "valor_acoes = [249.80, 311, 198.93] # Lista que armazena o valor mais recente da ação, o maior valor e o menor valor respectivamente nessa ordem\n",
    "\n",
    "novo_valor = 150 # Variável que recebe o valor mais recente da ação\n",
    "\n",
    "if novo_valor > valor_acoes[1]: # Verifica se o novo valor é superior ao maior valor antigo\n",
    "    valor_acoes[1] = novo_valor\n",
    "elif novo_valor < valor_acoes[2]: # Verifica se o novo valor é inferior ao menor valor antigo\n",
    "    valor_acoes[2] = novo_valor\n",
    "\n",
    "if novo_valor != valor_acoes[0]: # Verifica se o novo valor é diferente do armazenado no index 0\n",
    "    valor_acoes[0] = novo_valor\n",
    "\n",
    "print(f\"O valor mais recente é de: R${valor_acoes[0]}\")\n",
    "print(f\"O valor mais alto é de: R${valor_acoes[1]}\")\n",
    "print(f\"O valor mais baixo é de: R${valor_acoes[2]}\")\n"
   ]
  },
  {
   "attachments": {},
   "cell_type": "markdown",
   "metadata": {},
   "source": [
    "### Identificar maior pontuação"
   ]
  },
  {
   "cell_type": "code",
   "execution_count": 4,
   "metadata": {},
   "outputs": [
    {
     "name": "stdout",
     "output_type": "stream",
     "text": [
      "A sua maior pontuação foi 41!\n"
     ]
    }
   ],
   "source": [
    "# Uma máquina de fliperama nos dará as pontuações de um usuário. O objetivo do sistema é identificar o maior valor sem a utilização de max()\n",
    "\n",
    "pontuacoes = [12, 16, 33, 34, 19, 26, 41, 30, 9] # Variável que recebe as pontuações do usuário\n",
    "maior_pontuacao = 0 # Recebe a maior pontuação, default = 0\n",
    "\n",
    "# Itera a lista e usa uma condicional para validar se o item iterado é maior que a maior pontuação\n",
    "for pontuacao in pontuacoes:\n",
    "    if pontuacao > maior_pontuacao:\n",
    "        maior_pontuacao = pontuacao\n",
    "\n",
    "print(f\"A sua maior pontuação foi {maior_pontuacao}!\")"
   ]
  },
  {
   "attachments": {},
   "cell_type": "markdown",
   "metadata": {},
   "source": [
    "### Monitorar umidade"
   ]
  },
  {
   "cell_type": "code",
   "execution_count": 6,
   "metadata": {},
   "outputs": [
    {
     "name": "stdout",
     "output_type": "stream",
     "text": [
      "[79, 83, 88, 85, 86]\n"
     ]
    }
   ],
   "source": [
    "# O sistema recebe diariamente a umidade de solo de um monitor em uma estufa. O sistema armazena apenas os últimos 5 dias, sendo assim, diariamente ele armazena o novo valor e apaga o último\n",
    "\n",
    "umidade = [83, 88, 85, 86, 93] # Lista que armazena os níveis de umidade\n",
    "novo_registro = 79 # Recebe um novo registro diariamente\n",
    "\n",
    "umidade.insert(0, novo_registro) # Substitui o index 0 pelo novo valor\n",
    "umidade.pop() # Remove o último valor\n",
    "\n",
    "print(umidade)\n"
   ]
  }
 ],
 "metadata": {
  "kernelspec": {
   "display_name": "Python 3",
   "language": "python",
   "name": "python3"
  },
  "language_info": {
   "codemirror_mode": {
    "name": "ipython",
    "version": 3
   },
   "file_extension": ".py",
   "mimetype": "text/x-python",
   "name": "python",
   "nbconvert_exporter": "python",
   "pygments_lexer": "ipython3",
   "version": "3.10.7"
  },
  "orig_nbformat": 4
 },
 "nbformat": 4,
 "nbformat_minor": 2
}
