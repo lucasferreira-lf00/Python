{
 "cells": [
  {
   "attachments": {},
   "cell_type": "markdown",
   "metadata": {},
   "source": [
    "#### Marcador de teste em tempo real"
   ]
  },
  {
   "cell_type": "code",
   "execution_count": 10,
   "metadata": {},
   "outputs": [
    {
     "name": "stdout",
     "output_type": "stream",
     "text": [
      "Resposta incorreta, tente novamente.\n",
      "Resposta incorreta, tente novamente.\n",
      "Resposta correta!\n",
      "Resposta correta!\n",
      "Resposta correta!\n",
      "Resposta correta!\n",
      "Resposta correta!\n",
      "Resposta correta!\n",
      "Resposta correta!\n",
      "Resposta correta!\n",
      "Resposta incorreta, tente novamente.\n",
      "Resposta correta!\n",
      "Resposta correta!\n",
      "----------------------------------------\n",
      "Parabéns, você finalizou o questionário!\n",
      "Essas foram suas respostas:\n",
      "Resposta 1: A\n",
      "Resposta 2: B\n",
      "Resposta 3: D\n",
      "Resposta 4: E\n",
      "Resposta 5: C\n",
      "Resposta 6: A\n",
      "Resposta 7: C\n",
      "Resposta 8: D\n",
      "Resposta 9: E\n",
      "Resposta 10: B\n"
     ]
    }
   ],
   "source": [
    "# O objetivo do código é verificar se a resposta atual, utilizando indexação e exclusão negativa, do usuário está correta e caso não, exibir uma mensagem até que ele responda corretamente a questão\n",
    "\n",
    "perguntas = [\"A\", \"B\", \"D\", \"E\", \"C\", \"A\", \"C\", \"D\", \"E\", \"B\"] # Definindo as respostas das perguntas\n",
    "respostas = [] # Lista vazia que armazenará as respostas do usuário\n",
    "\n",
    "contador = len(respostas) # Contador utilizado no loop while\n",
    "\n",
    "# Executa o loop enquanto a quantidade de respostas não for igual a quantidade de perguntas\n",
    "while contador < len(perguntas):\n",
    "    resposta = input(f\"Digite a resposta da {len(respostas)+1}º pergunta: \")\n",
    "    respostas.append(resposta) # Adicionando a resposta do usuário a lista de respostas\n",
    "\n",
    "    # Verifica se a última resposta do usuário é igual ao esperado para a questão atual\n",
    "    if respostas[-1] == perguntas[len(respostas)-1]:\n",
    "        correto = True\n",
    "        print(\"Resposta correta!\")\n",
    "    else:\n",
    "        correto = False\n",
    "        del respostas[-1] # Caso responda incorretamente, a última resposta será excluída e o loop se repetirá até que ele responda corretamente\n",
    "        print(\"Resposta incorreta, tente novamente.\")\n",
    "        \n",
    "    contador = len(respostas) # Atribui ao contador o tamanho da lista de respostas após a condicional\n",
    "    \n",
    "print(\"----------------------------------------\")\n",
    "print(\"Parabéns, você finalizou o questionário!\")\n",
    "print(\"Essas foram suas respostas:\")\n",
    "\n",
    "for i in range(len(respostas)): # Mostra para o usuário as respostas após concluir o teste\n",
    "    print(f\"Resposta {i+1}: {respostas[i]}\")\n"
   ]
  },
  {
   "attachments": {},
   "cell_type": "markdown",
   "metadata": {},
   "source": [
    "### Priorizador de atividades"
   ]
  },
  {
   "cell_type": "code",
   "execution_count": 17,
   "metadata": {},
   "outputs": [
    {
     "name": "stdout",
     "output_type": "stream",
     "text": [
      "Você tem 4 hobbies restantes!\n",
      "['Tiro com arco', 'Boliche', 'Canoagem', 'Dança']\n",
      "Você economizou R$105 mantendo ['Academia', 'Cinema', 'Restaurantes']\n",
      "Caso queira economizar mais, deverá descartar Restaurantes\n"
     ]
    }
   ],
   "source": [
    "# Codificando um programa para ajudar o usuário a reduzir gastos com passatempos\n",
    "\n",
    "# Essa é a lista de hobbies em ordem de preferência\n",
    "hobbies = [\"Tiro com arco\", \"Boliche\", \"Canoagem\", \"Dança\", \"Bordado\", \"Flauta\", \"Ginástica\" ]\n",
    "\n",
    "# Ele decidiu excluir todos os hobbies a partir de \"Dança\"\n",
    "while hobbies[-1] != \"Dança\":\n",
    "    del hobbies[-1]\n",
    "\n",
    "# Contando quantos hobbies restaram e imprimindo a lista\n",
    "hobbies_restantes = len(hobbies)\n",
    "print(f\"Você tem {hobbies_restantes} hobbies restantes!\")\n",
    "print(hobbies)\n",
    "\n",
    "# Ele pretende iniciar outras atividades, mas precisa economizar uma certa quantia do seu salário\n",
    "extras = [\"Academia\", \"Cinema\", \"Restaurantes\", \"Jóias\", \"Café\", \"Netflix\", \"Bingo\"] # Lista contendo suas pretensões de atividades por ordem de preferência\n",
    "custos = [50, 20, 80, 30, 40, 10, 25] # Lista com os respectivos valores de cada atividade\n",
    "economizar = 100\n",
    "economias = 0\n",
    "\n",
    "# Executando o loop para reduzir um custo e acrescentar ao valor de economias\n",
    "while economizar > 0:\n",
    "    economizar -= custos[-1]\n",
    "    economias += custos[-1]\n",
    "    del custos[-1]\n",
    "    del extras[-1]\n",
    "\n",
    "print(f\"Você economizou R${economias} mantendo {extras}\")\n",
    "print(f\"Caso queira economizar mais, deverá descartar {extras[-1]}\")"
   ]
  },
  {
   "attachments": {},
   "cell_type": "markdown",
   "metadata": {},
   "source": [
    "### Monitor de frequência cardíaca"
   ]
  },
  {
   "cell_type": "code",
   "execution_count": 8,
   "metadata": {},
   "outputs": [
    {
     "name": "stdout",
     "output_type": "stream",
     "text": [
      "24\n",
      "[122, 136, 150, 123, 138, 157, 165, 142, 132, 148, 162, 146]\n",
      "[170, 187, 185, 158, 165, 182, 193, 167, 158, 167, 182, 169]\n",
      "Média de batimentos no primeiro round: 143.41666666666666\n",
      "Média de batimentos no segundo round: 173.58333333333334\n",
      "Durante os intervalos: [123, 142, 146, 158, 167, 169]\n",
      "Durante os minutos finais: [150, 165, 162, 185, 193, 182]\n"
     ]
    }
   ],
   "source": [
    "# Um boxeador deseja analisar os dados do monitor de frequência cardíaca durante uma luta, esse código tem o intuito de resolver essa demanda\n",
    "\n",
    "bpm = [122, 136, 150, 123,\n",
    "       138, 157, 165, 142,\n",
    "       132, 148, 162, 146,\n",
    "       170, 187, 185, 158,\n",
    "       165, 182, 193, 167,\n",
    "       158, 167, 182, 169]\n",
    "\n",
    "# Retorna quantos elementos temos na lista\n",
    "total = len(bpm) \n",
    "print(total)\n",
    "\n",
    "metade = int(total/2) # Divide a lista em duas partes inteiras iguais\n",
    "primeiro_round = bpm[:metade] # A primeira metade está atribuida ao primeiro round\n",
    "segundo_round = bpm[metade:] # A segunda metade está atribuida ao segundo round\n",
    "# Retorna os respectivos valores de cada round\n",
    "print(primeiro_round)\n",
    "print(segundo_round)\n",
    "\n",
    "primeiro_round_media = sum(primeiro_round) / metade # Calcula a média do primeiro round\n",
    "segundo_round_media = sum(segundo_round) / metade # Calcula a média do segundo round\n",
    "\n",
    "# Imprime a média de batimentos no primeiro e segundo round\n",
    "print(f\"Média de batimentos no primeiro round: {primeiro_round_media}\")\n",
    "print(f\"Média de batimentos no segundo round: {segundo_round_media}\")\n",
    "\n",
    "# Exibe os batimentos durante os intervalos e nos minutos finais\n",
    "minutos_finais = bpm[2::4]\n",
    "intervalos = bpm[3::4]\n",
    "print(f\"Durante os intervalos: {intervalos}\")\n",
    "print(f\"Durante os minutos finais: {minutos_finais}\")"
   ]
  }
 ],
 "metadata": {
  "kernelspec": {
   "display_name": "Python 3",
   "language": "python",
   "name": "python3"
  },
  "language_info": {
   "codemirror_mode": {
    "name": "ipython",
    "version": 3
   },
   "file_extension": ".py",
   "mimetype": "text/x-python",
   "name": "python",
   "nbconvert_exporter": "python",
   "pygments_lexer": "ipython3",
   "version": "3.10.7"
  },
  "orig_nbformat": 4
 },
 "nbformat": 4,
 "nbformat_minor": 2
}
