{
 "cells": [
  {
   "attachments": {},
   "cell_type": "markdown",
   "metadata": {},
   "source": [
    "### Fluxos de controle"
   ]
  },
  {
   "cell_type": "code",
   "execution_count": 30,
   "metadata": {},
   "outputs": [
    {
     "name": "stdout",
     "output_type": "stream",
     "text": [
      "Idade suficiente para CNH\n",
      "Habilitado para solicitar aposentadoria!\n",
      "-----------------------------------\n",
      "Idade suficiente para CNH\n",
      "Idade insuficiente para CNH\n",
      "Não habilitado para solicitar aposentadoria!\n",
      "-----------------------------------\n",
      "Seu número está dentro da classificação de dezena\n"
     ]
    }
   ],
   "source": [
    "# Estruturas condicionais são utilizadas para executar blocos de código que atendem determinado critério\n",
    "\n",
    "# Estrutura condicional if\n",
    "\n",
    "# Exemplo em que a condição é verdadeira\n",
    "idade = 22\n",
    "if idade >= 18:\n",
    "    print('Idade suficiente para CNH') # A idade mencionada atende o critério, portanto esse bloco de código será executado\n",
    "\n",
    "# Exemplo em que a condição é falsa\n",
    "idade = 15\n",
    "if idade >= 18:\n",
    "    print('Idade suficiente para CNH') # O bloco de código não será executado pois a condição não é atendida\n",
    "\n",
    "# Verifica se uma pessoa está apta para se aposentar\n",
    "idade = 70\n",
    "tempo_contrib = 20\n",
    "if idade >= 65 or tempo_contrib >= 35:\n",
    "    print('Habilitado para solicitar aposentadoria!') # Aqui utilizamos o operador lógico or para incluir dois critérios na nossa fórmula condicional e caso pelo menos uma seja atendida o código será executado\n",
    "\n",
    "# Para definir um bloco a ser executado é necessário utilizar a identação para que o Python entenda que o código faz parte da condição\n",
    "\n",
    "print('-----------------------------------') # Separando as saídas\n",
    "\n",
    "# Estrutura condicional if - else\n",
    "\n",
    "# Nessa estrutura uma condição que seja False retornará um valor especificado\n",
    "\n",
    "# Exemplo de uma condição verdadeira\n",
    "idade = 22\n",
    "if idade >= 18:\n",
    "    print('Idade suficiente para CNH')\n",
    "else:\n",
    "    print('Idade insuficiente para CNH')\n",
    "\n",
    "# Exemplo de uma condição falsa\n",
    "idade = 15\n",
    "if idade >= 18:\n",
    "    print('Idade suficiente para CNH')\n",
    "else:\n",
    "    print('Idade insuficiente para CNH')\n",
    "\n",
    "# Utilizando duas condições if aninhadas\n",
    "idade = 45\n",
    "tempo_contrib = 20\n",
    "if idade >= 65: # Verifica se a idade é maior ou igual a 65\n",
    "    print('Habilitado pela aposentadoria por idade!')\n",
    "else: # Caso não, executa há uma outra condicional aninhada a essa\n",
    "    if tempo_contrib >= 35: # Verifica se o tempo de contribuição é maior ou igual a 35\n",
    "        print('Habilitado para aposentadoria por tempo de contribuição!')\n",
    "    else:\n",
    "        print('Não habilitado para solicitar aposentadoria!')\n",
    "\n",
    "print('-----------------------------------') # Separando as saídas\n",
    "\n",
    "# Estrutura condicional if - elif - else\n",
    "\n",
    "# O elif permite utilizar diversas condições de forma mais compacta e é a melhor prática\n",
    "numero = 10\n",
    "\n",
    "if len(str(numero)) == 2: # Verificando a primeira condição\n",
    "    print('Seu número está dentro da classificação de dezena')\n",
    "elif len(str(numero)) == 3: # Segunda condição\n",
    "    print('Seu número está dentro da classificação de centena')\n",
    "elif len(str(numero)) == 4: # Terceira condição\n",
    "    print('Seu npumero está dentro da classificação de milhar')\n",
    "else: # Código executado se nenhuma dessas condições forem atendidas\n",
    "    print('Número inválido!')\n"
   ]
  }
 ],
 "metadata": {
  "kernelspec": {
   "display_name": "Python 3",
   "language": "python",
   "name": "python3"
  },
  "language_info": {
   "codemirror_mode": {
    "name": "ipython",
    "version": 3
   },
   "file_extension": ".py",
   "mimetype": "text/x-python",
   "name": "python",
   "nbconvert_exporter": "python",
   "pygments_lexer": "ipython3",
   "version": "3.10.7"
  },
  "orig_nbformat": 4
 },
 "nbformat": 4,
 "nbformat_minor": 2
}
