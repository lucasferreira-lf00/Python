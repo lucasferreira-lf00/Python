{
 "cells": [
  {
   "attachments": {},
   "cell_type": "markdown",
   "metadata": {},
   "source": [
    "### Estruturas de dados"
   ]
  },
  {
   "attachments": {},
   "cell_type": "markdown",
   "metadata": {},
   "source": [
    "#### Listas"
   ]
  },
  {
   "cell_type": "code",
   "execution_count": 3,
   "metadata": {},
   "outputs": [
    {
     "name": "stdout",
     "output_type": "stream",
     "text": [
      "[1, 2, 3, 4]\n",
      "[4, 3, 2, 1]\n"
     ]
    }
   ],
   "source": [
    "lista1 = [1, 2, 3, 4] # As listas são declaradas entre colchetes e os valores da lista são separados por vírgulas\n",
    "lista2 = [4, 3, 2, 1]\n",
    "print(lista1)\n",
    "print(lista2)"
   ]
  },
  {
   "cell_type": "code",
   "execution_count": 6,
   "metadata": {},
   "outputs": [
    {
     "data": {
      "text/plain": [
       "False"
      ]
     },
     "execution_count": 6,
     "metadata": {},
     "output_type": "execute_result"
    }
   ],
   "source": [
    "lista1 == lista2 # Embora as listas possuam os mesmos elementos, a ordem é diferente e torna a lista diferente da outra"
   ]
  },
  {
   "cell_type": "code",
   "execution_count": 10,
   "metadata": {},
   "outputs": [
    {
     "name": "stdout",
     "output_type": "stream",
     "text": [
      "[2, 'a', 5.44, True, None]\n"
     ]
    }
   ],
   "source": [
    "# Lista com valores heterogêneos\n",
    "lista3 = [2, 'a', 5.44, True, None]\n",
    "print(lista3)"
   ]
  },
  {
   "cell_type": "code",
   "execution_count": 14,
   "metadata": {},
   "outputs": [
    {
     "name": "stdout",
     "output_type": "stream",
     "text": [
      "[[0, 1], 'dois', 'três', [4, 5, [0, 1]], 'seis']\n"
     ]
    }
   ],
   "source": [
    "# Lista com outras listas dentro de listas\n",
    "l = [0, 1]\n",
    "lista4 = [l, 'dois', 'três', [4, 5, l], 'seis']\n",
    "print(lista4)"
   ]
  },
  {
   "cell_type": "code",
   "execution_count": 15,
   "metadata": {},
   "outputs": [
    {
     "name": "stdout",
     "output_type": "stream",
     "text": [
      "2\n",
      "5.44\n",
      "None\n",
      "['a', 5.44, True]\n",
      "[None, 'casa']\n",
      "[2, 'a', 5.44, True, None, 'casa']\n"
     ]
    }
   ],
   "source": [
    "lista = [2, 'a', 5.44, True, None, 'casa']\n",
    "# Acesso por índices\n",
    "print(lista[0])\n",
    "print(lista[2])\n",
    "print(lista[4])\n",
    "# Acesso por slices\n",
    "print(lista[1:4])\n",
    "print(lista[-2:])\n",
    "print(lista[:])"
   ]
  },
  {
   "cell_type": "code",
   "execution_count": 19,
   "metadata": {},
   "outputs": [
    {
     "name": "stdout",
     "output_type": "stream",
     "text": [
      "14\n",
      "244\n",
      "568\n",
      "Maior número: 568\n"
     ]
    }
   ],
   "source": [
    "# Solucionando um problema de encontrar o maior número utilizando listas\n",
    "\n",
    "# Criando lista para armazenar 10 números\n",
    "numeros = [5, 14, 244, 568, 12, 458, 45, 69, 4, 123]\n",
    "maior_numero = numeros[0]\n",
    "\n",
    "for numero in numeros:\n",
    "    if numero > maior_numero:\n",
    "        maior_numero = numero\n",
    "        print(maior_numero) # Mostrando ele retornando alterando o valor da variável até identificar o maior deles\n",
    "\n",
    "print('Maior número:', maior_numero)"
   ]
  },
  {
   "cell_type": "code",
   "execution_count": 21,
   "metadata": {},
   "outputs": [
    {
     "name": "stdout",
     "output_type": "stream",
     "text": [
      "[2, 'a', 5.44, True, None]\n",
      "[2, 'a', 5.44, True, None, 999]\n"
     ]
    }
   ],
   "source": [
    "# Alterando valores de uma lista\n",
    "lista = [2, 'a', 5.44, True, None]\n",
    "print(lista)\n",
    "lista.append(999) # append adiciona um valor ao final da lista\n",
    "print(lista)"
   ]
  },
  {
   "cell_type": "code",
   "execution_count": 29,
   "metadata": {},
   "outputs": [
    {
     "name": "stdout",
     "output_type": "stream",
     "text": [
      "['a', 5.44, 'novo valor', 'novo valor', 1002]\n",
      "['a', 5.44, 'novo valor', 'novo valor', 1003]\n"
     ]
    }
   ],
   "source": [
    "# Alterando valores que já existem na lista\n",
    "lista[3] = 'novo valor' # Substituindo o valor indexado na posição 3\n",
    "print(lista)\n",
    "lista[-1] = lista[-1] + 1 # Adicionando +1 ao último valor da lista\n",
    "print(lista)"
   ]
  },
  {
   "cell_type": "code",
   "execution_count": 30,
   "metadata": {},
   "outputs": [
    {
     "name": "stdout",
     "output_type": "stream",
     "text": [
      "[5.44, 'novo valor', 'novo valor', 1003]\n"
     ]
    }
   ],
   "source": [
    "# Removendo valores da lista\n",
    "lista.remove('a') # Remove a primeira ocorrência \n",
    "print(lista)"
   ]
  },
  {
   "cell_type": "code",
   "execution_count": 32,
   "metadata": {},
   "outputs": [
    {
     "name": "stdout",
     "output_type": "stream",
     "text": [
      "[30, 10, 20, 2, 'a', 5.44, True]\n",
      "[30, 10, 20, 30, 10, 20, 30, 10, 20]\n",
      "False\n"
     ]
    }
   ],
   "source": [
    "l1 = [30, 10, 20]\n",
    "l2 = [2, 'a', 5.44, True]\n",
    "\n",
    "# Operadores de concatenação\n",
    "print(l1 + l2) # Concatenando as duas listas\n",
    "print(l1 * 3) # Repetindo a lista 3x\n",
    "print(99 in l1) # Verifica se 99 está presenta na l1"
   ]
  },
  {
   "cell_type": "code",
   "execution_count": 35,
   "metadata": {},
   "outputs": [
    {
     "name": "stdout",
     "output_type": "stream",
     "text": [
      "3\n",
      "60\n",
      "30\n"
     ]
    }
   ],
   "source": [
    "# Funções úteis\n",
    "print(len(l1)) # Verifica a quantidade de elementos da lista\n",
    "print(sum(l1)) # Soma os elementos da lista (funciona apenas com listas com valores inteiros ou float)\n",
    "print(max(l1)) # Retorna o maior elemento da lista"
   ]
  },
  {
   "cell_type": "code",
   "execution_count": 39,
   "metadata": {},
   "outputs": [
    {
     "name": "stdout",
     "output_type": "stream",
     "text": [
      "[70, 50, 30, 20, 10, 30, 10, 20]\n",
      "[70, 50, 30, 20, 10, 30, 10, 20, 10, 20, 30, 50, 70]\n",
      "[10, 10, 10, 20, 20, 20, 30, 30, 30, 50, 50, 70, 70]\n",
      "[10, 10, 'novo valor', 10, 20, 20, 20, 30, 30, 30, 50, 50, 70, 70]\n",
      "[10, 10, 'novo valor', 10, 20, 20, 20, 30, 30, 30, 50, 50, 70]\n",
      "[]\n"
     ]
    }
   ],
   "source": [
    "l1.reverse() # inverte a ordem dos elementos\n",
    "print(l1)\n",
    "l1.extend([10, 20, 30, 50, 70]) # adiciona elementos na lista\n",
    "print(l1)\n",
    "l1.sort() # ordena valores da lista\n",
    "print(l1)\n",
    "l1.insert(2, 'novo valor') # adiciona elemento em um índice\n",
    "print(l1)\n",
    "l1.pop() # remove o último elemento da lista\n",
    "print(l1)\n",
    "l1.clear() # esvazia toda a lista\n",
    "print(l1)"
   ]
  },
  {
   "cell_type": "code",
   "execution_count": 41,
   "metadata": {},
   "outputs": [
    {
     "name": "stdout",
     "output_type": "stream",
     "text": [
      "9\n",
      "3\n"
     ]
    }
   ],
   "source": [
    "l1 = [10, 10, 10, 20, 20, 20, 30, 30, 30, 50, 50, 70, 70]\n",
    "print(l1.index(50)) # Retorna o índice da primeira ocorrência desse elemento\n",
    "print(l1.count(10)) # Conta a ocorrência de um elemento"
   ]
  },
  {
   "attachments": {},
   "cell_type": "markdown",
   "metadata": {},
   "source": [
    "#### Tuplas"
   ]
  },
  {
   "cell_type": "code",
   "execution_count": 43,
   "metadata": {},
   "outputs": [
    {
     "name": "stdout",
     "output_type": "stream",
     "text": [
      "(2, 'a', 2.44, True, None)\n"
     ]
    }
   ],
   "source": [
    "# Tuplas são estruturas de dados ordenados semelhantes a listas, mas seus valores são imutáveis\n",
    "# Criação de uma lista\n",
    "tupla = (2, 'a', 2.44, True, None)\n",
    "print(tupla)"
   ]
  },
  {
   "cell_type": "code",
   "execution_count": 45,
   "metadata": {},
   "outputs": [
    {
     "name": "stdout",
     "output_type": "stream",
     "text": [
      "a\n",
      "(2, 'a')\n"
     ]
    }
   ],
   "source": [
    "# Acessando valores por índices e slices\n",
    "print(tupla[1])\n",
    "print(tupla[:2])"
   ]
  },
  {
   "cell_type": "code",
   "execution_count": 47,
   "metadata": {},
   "outputs": [
    {
     "name": "stdout",
     "output_type": "stream",
     "text": [
      "(20, 30, 10, 1, 'a', 2.4, True, None)\n",
      "(20, 30, 10, 20, 30, 10, 20, 30, 10)\n",
      "True\n"
     ]
    }
   ],
   "source": [
    "# Operações de concatenação\n",
    "t1 = (20, 30, 10)\n",
    "t2 = (1, 'a', 2.4, True, None)\n",
    "\n",
    "print(t1 + t2)\n",
    "print(t1 * 3)\n",
    "print(10 in t1)"
   ]
  },
  {
   "cell_type": "code",
   "execution_count": 49,
   "metadata": {},
   "outputs": [
    {
     "name": "stdout",
     "output_type": "stream",
     "text": [
      "3\n",
      "10\n",
      "30\n",
      "60\n"
     ]
    }
   ],
   "source": [
    "# Funções\n",
    "print(len(t1)) # retorna a quantidade de elementos\n",
    "print(min(t1)) # retorna o menor valor\n",
    "print(max(t1)) # retorna o maior valor\n",
    "print(sum(t1)) # soma todos os valores"
   ]
  },
  {
   "cell_type": "code",
   "execution_count": 51,
   "metadata": {},
   "outputs": [
    {
     "name": "stdout",
     "output_type": "stream",
     "text": [
      "2\n",
      "1\n"
     ]
    }
   ],
   "source": [
    "# Métodos\n",
    "print(t1.index(10)) # retorna o índice\n",
    "print(t2.count('a')) # retorna as ocorrências"
   ]
  },
  {
   "attachments": {},
   "cell_type": "markdown",
   "metadata": {},
   "source": [
    "#### Conjuntos"
   ]
  },
  {
   "cell_type": "code",
   "execution_count": 53,
   "metadata": {},
   "outputs": [
    {
     "name": "stdout",
     "output_type": "stream",
     "text": [
      "{0, 1, 3, 4}\n"
     ]
    }
   ],
   "source": [
    "# Um conjunto é criado utilizando chaves, ele ordena todos os itens e seus elementos são únicos\n",
    "c1 = {3, 0, 1, 3, 4, 0}\n",
    "print(c1)"
   ]
  },
  {
   "cell_type": "code",
   "execution_count": 59,
   "metadata": {},
   "outputs": [
    {
     "name": "stdout",
     "output_type": "stream",
     "text": [
      "A: {1, 2, 3, 4, 5, 6}\n",
      "B: {5, 6, 7, 8, 9, 10}\n"
     ]
    }
   ],
   "source": [
    "# Criando dois conjuntos\n",
    "A = {1, 2, 3, 4, 5, 6}\n",
    "B = {5, 6, 7, 8, 9, 10}\n",
    "print('A:', A)\n",
    "print('B:', B)"
   ]
  },
  {
   "cell_type": "code",
   "execution_count": 60,
   "metadata": {},
   "outputs": [
    {
     "name": "stdout",
     "output_type": "stream",
     "text": [
      "A | B => {1, 2, 3, 4, 5, 6, 7, 8, 9, 10}\n",
      "A.union(B) {1, 2, 3, 4, 5, 6, 7, 8, 9, 10}\n"
     ]
    }
   ],
   "source": [
    "# Operação com união (une os dois conjuntos mantendo todos os valores exclusivos de ambos)\n",
    "print('A | B =>', A | B)\n",
    "print('A.union(B)', A.union(B))"
   ]
  },
  {
   "cell_type": "code",
   "execution_count": 62,
   "metadata": {},
   "outputs": [
    {
     "name": "stdout",
     "output_type": "stream",
     "text": [
      "A & B => {5, 6}\n",
      "A.intersection(B) => {5, 6}\n"
     ]
    }
   ],
   "source": [
    "# Operação de interseção (retorna aquilo que se repete entre os dois conjuntos)\n",
    "print('A & B =>', A & B)\n",
    "print('A.intersection(B) =>', A.intersection(B))"
   ]
  },
  {
   "cell_type": "code",
   "execution_count": 64,
   "metadata": {},
   "outputs": [
    {
     "name": "stdout",
     "output_type": "stream",
     "text": [
      "A - B => {1, 2, 3, 4}\n",
      "A.difference(B) {1, 2, 3, 4}\n",
      "B - A => {8, 9, 10, 7}\n",
      "B.difference(A) {8, 9, 10, 7}\n"
     ]
    }
   ],
   "source": [
    "# Operação de diferença: (A-B) e (B-A)\n",
    "print('A - B =>', A - B) # retorna tudo que está em A, mas não está em B\n",
    "print('A.difference(B)', A.difference(B))\n",
    "print('B - A =>', B - A ) # retorna tudo que está em B, mas não está em A\n",
    "print('B.difference(A)', B.difference(A))"
   ]
  },
  {
   "cell_type": "code",
   "execution_count": 66,
   "metadata": {},
   "outputs": [
    {
     "name": "stdout",
     "output_type": "stream",
     "text": [
      "{1, 2, 3, 4, 5, 6}\n"
     ]
    }
   ],
   "source": [
    "# Criação de conjuntos C1 e C2\n",
    "c1 = {1, 2, 3, 4, 5}\n",
    "c2 = {4, 5}\n",
    "c3 = {91, 92, 93}\n",
    "\n",
    "# Adiciona um elemento ao conjunto\n",
    "c1.add(6)\n",
    "print(c1)"
   ]
  },
  {
   "cell_type": "code",
   "execution_count": 68,
   "metadata": {},
   "outputs": [
    {
     "name": "stdout",
     "output_type": "stream",
     "text": [
      "{1, 2, 3, 4, 5, 6, 8}\n"
     ]
    }
   ],
   "source": [
    "# Adiciona os elementos de uma sequência iterável\n",
    "c1.update([2, 4, 6, 8])\n",
    "print(c1)"
   ]
  },
  {
   "cell_type": "code",
   "execution_count": 70,
   "metadata": {},
   "outputs": [
    {
     "name": "stdout",
     "output_type": "stream",
     "text": [
      "{1, 2, 3, 4, 5, 6}\n"
     ]
    }
   ],
   "source": [
    "# Descarta um elemento do conjunto\n",
    "c1.discard(8)\n",
    "print(c1)"
   ]
  },
  {
   "cell_type": "code",
   "execution_count": 72,
   "metadata": {},
   "outputs": [
    {
     "name": "stdout",
     "output_type": "stream",
     "text": [
      "False\n",
      "True\n"
     ]
    }
   ],
   "source": [
    "# Verifica se dois conjuntos não possuem elementos em comum\n",
    "print(c1.isdisjoint(c2)) # Possuem elementos em comum\n",
    "print(c1.isdisjoint(c3)) # Não possuem elementos em comum"
   ]
  },
  {
   "cell_type": "code",
   "execution_count": 75,
   "metadata": {},
   "outputs": [
    {
     "name": "stdout",
     "output_type": "stream",
     "text": [
      "False\n",
      "True\n"
     ]
    }
   ],
   "source": [
    "# Verifica se o conjunto é um subconjunto do outro\n",
    "print(c1.issubset(c2))\n",
    "print(c2.issubset(c1))"
   ]
  },
  {
   "attachments": {},
   "cell_type": "markdown",
   "metadata": {},
   "source": [
    "#### Dicionários"
   ]
  },
  {
   "cell_type": "code",
   "execution_count": 77,
   "metadata": {},
   "outputs": [
    {
     "name": "stdout",
     "output_type": "stream",
     "text": [
      "{'nome': 'Lucas', 'idade': 22, 'sexo': 'masculino'}\n"
     ]
    }
   ],
   "source": [
    "# Os dicionários são compostos por chaves-valores e estão dentro de chaves também\n",
    "\n",
    "# Primeiro dicionário\n",
    "d1 = {'nome': 'Lucas', 'idade': 22, 'sexo': 'masculino'}\n",
    "print(d1)\n",
    "\n",
    "# Os dicionários podem ter chaves e valores de diferentes tipos"
   ]
  },
  {
   "cell_type": "code",
   "execution_count": 84,
   "metadata": {},
   "outputs": [
    {
     "name": "stdout",
     "output_type": "stream",
     "text": [
      "zero\n",
      "dois\n",
      "Meu nome é Lucas e tenho 22 anos\n"
     ]
    }
   ],
   "source": [
    "# Os dicionários são acessados pelas chaves\n",
    "d1 = {'nome': 'Lucas', 'idade': 22, 'sexo': 'masculino'}\n",
    "d2 = {1: 'um', 0: 'zero', 3: 'três', 2:'dois'}\n",
    "\n",
    "# Acesso aos elementos\n",
    "print(d2[0])\n",
    "print(d2[2])\n",
    "\n",
    "print(f'Meu nome é {d1[\"nome\"]} e tenho {d1[\"idade\"]} anos')"
   ]
  },
  {
   "cell_type": "code",
   "execution_count": 86,
   "metadata": {},
   "outputs": [
    {
     "name": "stdout",
     "output_type": "stream",
     "text": [
      "{'nome': 'Lucas Ferreira', 'idade': 22, 'sexo': 'masculino'}\n"
     ]
    }
   ],
   "source": [
    "# Atualização dos valores da chave\n",
    "d1['nome'] = 'Lucas Ferreira'\n",
    "print(d1)"
   ]
  },
  {
   "cell_type": "code",
   "execution_count": 88,
   "metadata": {},
   "outputs": [
    {
     "name": "stdout",
     "output_type": "stream",
     "text": [
      "{'nome': 'Lucas Ferreira', 'idade': 22, 'sexo': 'masculino'}\n"
     ]
    }
   ],
   "source": [
    "# Adição de chave\n",
    "d1['sexo'] = 'masculino'\n",
    "print(d1)"
   ]
  },
  {
   "cell_type": "code",
   "execution_count": 90,
   "metadata": {},
   "outputs": [
    {
     "name": "stdout",
     "output_type": "stream",
     "text": [
      "Maior e menor chave: 3 0\n"
     ]
    }
   ],
   "source": [
    "# Encontra a maior e menor chave\n",
    "print('Maior e menor chave:', max(d2), min(d2))"
   ]
  },
  {
   "cell_type": "code",
   "execution_count": 97,
   "metadata": {},
   "outputs": [
    {
     "name": "stdout",
     "output_type": "stream",
     "text": [
      "{'nome': 'Lucas Ferreira', 'idade': 22, 'sexo': 'masculino', 5: 'cinco', 6: 'seis'}\n"
     ]
    }
   ],
   "source": [
    "# Adiciona elementos de um outro dicionário\n",
    "d1.update({5: 'cinco', 6: 'seis'})\n",
    "print(d1)"
   ]
  },
  {
   "cell_type": "code",
   "execution_count": 98,
   "metadata": {},
   "outputs": [
    {
     "name": "stdout",
     "output_type": "stream",
     "text": [
      "A chave 'nome' está no dicionário? True\n",
      "{'nome': 'Lucas Ferreira', 'idade': 22, 'sexo': 'masculino', 5: 'cinco'}\n"
     ]
    }
   ],
   "source": [
    "# Verifica se a chave está no dicionário\n",
    "print(\"A chave 'nome' está no dicionário?\", 'nome' in d1)\n",
    "# Remove o elemento especificado\n",
    "d1.pop(6)\n",
    "print(d1)"
   ]
  },
  {
   "cell_type": "code",
   "execution_count": 101,
   "metadata": {},
   "outputs": [
    {
     "name": "stdout",
     "output_type": "stream",
     "text": [
      "Chave três encontrada!\n"
     ]
    }
   ],
   "source": [
    "# Iteração em dicionários\n",
    "d1 = {'zero': 0, 'um': 1, 'dois': 2, 'três': 3, 'quatro': 4}\n",
    "\n",
    "# Itera sobre as chaves\n",
    "for key in d1: # Se não especificar o que será iterado, ocorrerá automaticamente pelas chaves\n",
    "    if key == 'três':\n",
    "        print('Chave três encontrada!')\n",
    "\n",
    "for key in d1.keys(): # Declarando especificamente que quero iterar pelas chaves\n",
    "    if key == 'dez':\n",
    "        print('Chave dez encontrada!')"
   ]
  },
  {
   "cell_type": "code",
   "execution_count": 102,
   "metadata": {},
   "outputs": [
    {
     "name": "stdout",
     "output_type": "stream",
     "text": [
      "Soma dos valores do dicionário: 10\n"
     ]
    }
   ],
   "source": [
    "# Itera sobre os valores\n",
    "soma = 0\n",
    "\n",
    "for value in d1.values():\n",
    "    soma = soma + value\n",
    "    \n",
    "print('Soma dos valores do dicionário:', soma)"
   ]
  },
  {
   "cell_type": "code",
   "execution_count": 103,
   "metadata": {},
   "outputs": [
    {
     "name": "stdout",
     "output_type": "stream",
     "text": [
      "zero 0\n",
      "um 1\n",
      "dois 2\n",
      "três 3\n",
      "quatro 4\n"
     ]
    }
   ],
   "source": [
    "# Itera sobre os itens\n",
    "for key, value in d1.items():\n",
    "    print(key, value)"
   ]
  }
 ],
 "metadata": {
  "kernelspec": {
   "display_name": "Python 3",
   "language": "python",
   "name": "python3"
  },
  "language_info": {
   "codemirror_mode": {
    "name": "ipython",
    "version": 3
   },
   "file_extension": ".py",
   "mimetype": "text/x-python",
   "name": "python",
   "nbconvert_exporter": "python",
   "pygments_lexer": "ipython3",
   "version": "3.10.7"
  },
  "orig_nbformat": 4
 },
 "nbformat": 4,
 "nbformat_minor": 2
}
