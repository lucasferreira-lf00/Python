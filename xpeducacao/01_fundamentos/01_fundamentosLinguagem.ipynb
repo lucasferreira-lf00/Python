{
 "cells": [
  {
   "attachments": {},
   "cell_type": "markdown",
   "metadata": {},
   "source": [
    "### Declaração de variáveis"
   ]
  },
  {
   "cell_type": "code",
   "execution_count": 4,
   "metadata": {},
   "outputs": [
    {
     "name": "stdout",
     "output_type": "stream",
     "text": [
      "Lucas 22 1.71\n"
     ]
    }
   ],
   "source": [
    "# Declarando variáveis e utilizando regras de nomeação\n",
    "\n",
    "pessoa = \"Lucas\" # tipo string\n",
    "idade = 22 # tipo int\n",
    "altura = 1.71 # tipo float\n",
    "print(pessoa, idade, altura) # exibindo variáveis\n",
    "\n",
    "# Uma variável pode conter letras e números e é permitido utilizar letras minúsculas e maiúsculas (com preferência nas minúsculas)\n",
    "# Não é permitido usar caracteres especiais, espaços em branco e pontuações (apenas _)\n",
    "# Versões mais recentes do Python suportam letras acentuadas, mas não é recomendado"
   ]
  },
  {
   "attachments": {},
   "cell_type": "markdown",
   "metadata": {},
   "source": [
    "### Principais erros"
   ]
  },
  {
   "cell_type": "code",
   "execution_count": 6,
   "metadata": {},
   "outputs": [
    {
     "name": "stdout",
     "output_type": "stream",
     "text": [
      "São Paulo\n",
      "Brasil\n"
     ]
    },
    {
     "ename": "NameError",
     "evalue": "name 'cidade' is not defined",
     "output_type": "error",
     "traceback": [
      "\u001b[1;31m---------------------------------------------------------------------------\u001b[0m",
      "\u001b[1;31mNameError\u001b[0m                                 Traceback (most recent call last)",
      "Cell \u001b[1;32mIn[6], line 13\u001b[0m\n\u001b[0;32m     11\u001b[0m \u001b[39mprint\u001b[39m(estado)\n\u001b[0;32m     12\u001b[0m \u001b[39mprint\u001b[39m(pais)\n\u001b[1;32m---> 13\u001b[0m \u001b[39mprint\u001b[39m(cidade)\n\u001b[0;32m     15\u001b[0m \u001b[39m# Erros lógicos\u001b[39;00m\n\u001b[0;32m     16\u001b[0m x \u001b[39m=\u001b[39m \u001b[39m5\u001b[39m\n",
      "\u001b[1;31mNameError\u001b[0m: name 'cidade' is not defined"
     ]
    }
   ],
   "source": [
    "# Conhecendo os três principais tipos de erros\n",
    "\n",
    "# Erro de sintaxe\n",
    "x = 3\n",
    "y = 5\n",
    "print x + y # Gera um erro por violação na sintaxe e não executa o código\n",
    "\n",
    "# Erros em tempo de execução são gerados quando há algo de errado enquanto o programa está em execução, mas retornam partes do código onde não há erro\n",
    "estado = \"São Paulo\"\n",
    "pais = \"Brasil\"\n",
    "print(estado)\n",
    "print(pais)\n",
    "print(cidade)\n",
    "\n",
    "# Erros lógicos\n",
    "x = 5\n",
    "y = 7\n",
    "z = 12\n",
    "media = x + y + z / 3 # esse código não lançara um erro, mas a fórmula para calcular a média está incorreta\n",
    "print(media) \n"
   ]
  },
  {
   "attachments": {},
   "cell_type": "markdown",
   "metadata": {},
   "source": [
    "### Tipos de dados"
   ]
  },
  {
   "cell_type": "code",
   "execution_count": 9,
   "metadata": {},
   "outputs": [
    {
     "name": "stdout",
     "output_type": "stream",
     "text": [
      "5 15 464842168465485\n",
      "2.2 7.5 3.14\n",
      "True\n",
      "False\n",
      "São Paulo / Lucas Ferreira\n",
      "Utilizando aspas duplas em um \"texto\"\n",
      "None\n"
     ]
    },
    {
     "data": {
      "text/plain": [
       "int"
      ]
     },
     "execution_count": 9,
     "metadata": {},
     "output_type": "execute_result"
    }
   ],
   "source": [
    "# int: utilizado para representar números inteiros\n",
    "# float: representa números racionais\n",
    "# bool: representa resultados booleanos (True e False)\n",
    "# str: sequência de caracteres que são utilizados para representar palavras, frases e textos\n",
    "# nonetype: assume o valor nulo (None)\n",
    "\n",
    "# exemplos de tipo int\n",
    "x = 5\n",
    "y = 15\n",
    "grande_numero = 464842168465485\n",
    "print(x, y, grande_numero)\n",
    "\n",
    "# exemplos de tipo float\n",
    "a = 2.2\n",
    "b = 7.5\n",
    "pi = 3.14\n",
    "print(a, b, pi)\n",
    "\n",
    "# exemplos do tipo bool\n",
    "pendencia_cnh = True\n",
    "pendencia_documento = False\n",
    "print(pendencia_cnh)\n",
    "print(pendencia_documento)\n",
    "\n",
    "# exemplos do tipo str\n",
    "cidade = 'São Paulo'\n",
    "nome = 'Lucas Ferreira'\n",
    "frase = 'Utilizando aspas duplas em um \"texto\"'\n",
    "print(cidade, \"/\", nome)\n",
    "print(frase)\n",
    "\n",
    "# exemplos do tipo nonetype\n",
    "j = None\n",
    "print(j)\n",
    "\n",
    "# Exemplo função type(): retorna o tipo dos dados armazenados em uma variável\n",
    "type(x)\n"
   ]
  },
  {
   "attachments": {},
   "cell_type": "markdown",
   "metadata": {},
   "source": [
    "### Operadores"
   ]
  },
  {
   "cell_type": "code",
   "execution_count": 8,
   "metadata": {},
   "outputs": [
    {
     "name": "stdout",
     "output_type": "stream",
     "text": [
      "23.5\n",
      "6.5\n",
      "270.0\n",
      "0.8333333333333334\n",
      "3\n",
      "3\n",
      "50625\n"
     ]
    }
   ],
   "source": [
    "# Operadores aritméticos\n",
    "\n",
    "# O Python obedece a precedência PEMDAS (parênteses, exponenciação, multiplicação, divisão, adição e por último subtração)\n",
    "\n",
    "\n",
    "# Operadores Aritméticos\n",
    "x = 15\n",
    "y = 4\n",
    "z = 4.5\n",
    "print(x + y + z) # operação de adição\n",
    "print(x - y - z) # operação de subtração\n",
    "print(x * y * z) # operação de multiplicação\n",
    "print(x / y / z) # operação de divisão com casas decimais\n",
    "print(x // y) # operação de divisão com resultado inteiro\n",
    "print(x % y) # operação que retorna o modulo (resto da divisão)\n",
    "print(x ** y) # operação de exponenciação"
   ]
  },
  {
   "cell_type": "code",
   "execution_count": 11,
   "metadata": {},
   "outputs": [
    {
     "name": "stdout",
     "output_type": "stream",
     "text": [
      "False\n",
      "True\n",
      "True\n",
      "False\n",
      "False\n",
      "False\n",
      "True\n"
     ]
    },
    {
     "ename": "TypeError",
     "evalue": "'>' not supported between instances of 'int' and 'str'",
     "output_type": "error",
     "traceback": [
      "\u001b[1;31m---------------------------------------------------------------------------\u001b[0m",
      "\u001b[1;31mTypeError\u001b[0m                                 Traceback (most recent call last)",
      "Cell \u001b[1;32mIn[11], line 25\u001b[0m\n\u001b[0;32m     21\u001b[0m \u001b[39mprint\u001b[39m(z \u001b[39m<\u001b[39m \u001b[39m\"\u001b[39m\u001b[39mteste\u001b[39m\u001b[39m\"\u001b[39m)\n\u001b[0;32m     23\u001b[0m \u001b[39m# Ao tentar fazer comparações de de strings com outros tipos de dados um erro de tempo de execução será retornado\u001b[39;00m\n\u001b[1;32m---> 25\u001b[0m \u001b[39mprint\u001b[39m(x \u001b[39m>\u001b[39;49m z)\n",
      "\u001b[1;31mTypeError\u001b[0m: '>' not supported between instances of 'int' and 'str'"
     ]
    }
   ],
   "source": [
    "# Operadores de comparação\n",
    "\n",
    "# O resultado de uma operação de comparação é sempre um resultado booleano\n",
    "\n",
    "x = 5\n",
    "y = 3\n",
    "z = \"casa\"\n",
    "\n",
    "print(x == y) # Compara se x é igual a y\n",
    "print(x != y) # Compara se x é diferente de y\n",
    "print(x > y) # Compara se x é maior que y\n",
    "print(x < y) # Compara se x é menor que y\n",
    "\n",
    "# Também podemos comparar\n",
    "\n",
    "print(\"teste\" == z) # Comparando se a palavra teste é igual a palavra armazenada na variável z\n",
    "print(\"palavra\" == z) # Comparando se \"casa\" é igual a palavra armazenada na variável z\n",
    "\n",
    "# Se utilizarmos um operador de comparação maior ou menor com strings será considerada a ordem alfabética\n",
    "\n",
    "print(z < \"teste\")\n",
    "\n",
    "# Ao tentar fazer comparações de strings com outros tipos de dados um erro de tempo de execução será retornado\n",
    "\n",
    "print(x > z)"
   ]
  },
  {
   "cell_type": "code",
   "execution_count": 16,
   "metadata": {},
   "outputs": [
    {
     "name": "stdout",
     "output_type": "stream",
     "text": [
      "False\n",
      "True\n",
      "True\n"
     ]
    }
   ],
   "source": [
    "# Operadores lógicos\n",
    "\n",
    "# o AND retorna True se ambas condições forem iguais a True\n",
    "# o OR retorna True se pelo menos uma das condições forem True\n",
    "# o NOT retorna sempre o inverso, utilizando NOT True teremos como resposta False\n",
    "\n",
    "idade = 22\n",
    "possui_cnh = False\n",
    "\n",
    "print(idade > 18 and possui_cnh) # Usando o comparador AND\n",
    "print(idade > 18 or possui_cnh) # Usando o comparador OR\n",
    "print(idade > 18 and not possui_cnh) # Usando o comparador NOT para inverter o resultado da variável \"possui_cnh\""
   ]
  },
  {
   "attachments": {},
   "cell_type": "markdown",
   "metadata": {},
   "source": [
    "### Operações com strings"
   ]
  },
  {
   "cell_type": "code",
   "execution_count": 13,
   "metadata": {},
   "outputs": [
    {
     "name": "stdout",
     "output_type": "stream",
     "text": [
      "Primeira letra: c\n",
      "Última letra: o\n",
      "Primeira letra: c\n",
      "Primeira letra: o\n",
      "consola\n",
      "sol\n",
      "ação\n",
      "cnoaã\n"
     ]
    }
   ],
   "source": [
    "# O Python começa a indexar valores no índice 0. Podemos acessar o índice utilizando valores positivos ou acessa-los utilizando índices negativos de forma reversa (-1 representa o último elemento)\n",
    "\n",
    "palavra = 'consolação'\n",
    "\n",
    "# Acesso positivo\n",
    "\n",
    "print(\"Primeira letra:\", palavra[0])\n",
    "print(\"Última letra:\", palavra[9])\n",
    "\n",
    "# Acesso negativo\n",
    "\n",
    "print(\"Primeira letra:\", palavra[-10])\n",
    "print(\"Primeira letra:\", palavra[-1])\n",
    "\n",
    "# Podemos acessar um conjunto de caracteres [inicio:final:intervalo] (no final sempre considerar uma posição a mais). Isso se chama slicing\n",
    "\n",
    "print(palavra[:7]) # Deixando o inicio ou final em branco ele ira retornar todos os valores antes ou após os critérios\n",
    "print(palavra[3:6])\n",
    "print(palavra[6:10])\n",
    "print(palavra[0:9:2]) # Aqui ele retorna letra sim e letra não"
   ]
  },
  {
   "cell_type": "code",
   "execution_count": 23,
   "metadata": {},
   "outputs": [
    {
     "name": "stdout",
     "output_type": "stream",
     "text": [
      "LucasFerreira\n",
      "Lucas Ferreira\n",
      "LucasLucasLucasLucasLucas\n",
      "Lucas Ferreira Lucas Ferreira Lucas Ferreira Lucas Ferreira Lucas Ferreira \n",
      "False\n",
      "True\n"
     ]
    }
   ],
   "source": [
    "# Operadores de strings\n",
    "\n",
    "nome = 'Lucas'\n",
    "sobrenome = 'Ferreira'\n",
    "\n",
    "# Concatenação \n",
    "\n",
    "print(nome + sobrenome) # Dessa forma ele ira concatenar sem espaçamentos\n",
    "print(nome + \" \" + sobrenome) # Dessa forma podemos acrescentar um separador\n",
    "\n",
    "# Repetição\n",
    "\n",
    "print(nome * 5) # Utilizando o operador de multiplicação podemos repetir conteúdos de strings várias vezes\n",
    "print((nome + \" \" + sobrenome + \" \") * 5) # Podemos utilizar concatenação com repetição também\n",
    "\n",
    "# Filiação\n",
    "\n",
    "a1 = \"consolação\"\n",
    "a2 = \"ação\"\n",
    "\n",
    "print(a1 in a2) # Aqui nós comparamos se a palavra \"consolação\" está dentro de \"ação\" e obtemos um False\n",
    "print(a2 in a1) # Seguindo a mesma lógica, agora obtemos True ao inverter a ordem\n",
    "\n"
   ]
  },
  {
   "cell_type": "code",
   "execution_count": 43,
   "metadata": {},
   "outputs": [
    {
     "name": "stdout",
     "output_type": "stream",
     "text": [
      "4\n",
      "CASA\n",
      "casa\n",
      "Casa Azul\n",
      "casa vermelha\n",
      "True\n",
      "False\n",
      "5\n",
      "['Casa', 'azul', 'e', 'vermelha']\n",
      "['Casa', 'azul', 'e', 'vermelha']\n"
     ]
    }
   ],
   "source": [
    "# Funções e métodos\n",
    "\n",
    "# len é utilizado para verificar o comprimento da string\n",
    "\n",
    "palavra = \"casa\"\n",
    "print(len(palavra))\n",
    "\n",
    "# upper passa todas as letras para maiúscula\n",
    "print(palavra.upper())\n",
    "\n",
    "# lower passa todas as letras para minúsculo\n",
    "print(palavra.lower())\n",
    "\n",
    "palavra2 = \"casa azul\"\n",
    "\n",
    "# title passa a primeira letra de cada palavra para maiúscula\n",
    "\n",
    "print(palavra2.title())\n",
    "\n",
    "# replace substitui algo de uma string\n",
    "\n",
    "print(palavra2.replace(\"azul\", \"vermelha\"))\n",
    "\n",
    "# usamos startswith ou endswith para verificar se a string inicia ou termina com algum critério\n",
    "\n",
    "print(palavra2.startswith(\"casa\"))\n",
    "print(palavra2.endswith(\"casa\"))\n",
    "\n",
    "# find retorna o índice onde o critério está posicionado. No caso de itens repetidos, ele retornará a primeira ocorrência\n",
    "\n",
    "print(palavra2.find(\"azul\"))\n",
    "\n",
    "# split separa strings\n",
    "\n",
    "palavra3 = \"Casa azul e vermelha\"\n",
    "palavra4 = \"Casa.azul.e.vermelha\"\n",
    "\n",
    "print(palavra3.split()) # Ele retorna em forma de uma lista\n",
    "print(palavra4.split(\".\")) # Podemos definir qual caracter utilizar como correspondência"
   ]
  },
  {
   "attachments": {},
   "cell_type": "markdown",
   "metadata": {},
   "source": [
    "### Conversão e Formatação"
   ]
  },
  {
   "cell_type": "code",
   "execution_count": 60,
   "metadata": {},
   "outputs": [
    {
     "name": "stdout",
     "output_type": "stream",
     "text": [
      "Eu tenho 23 anos\n",
      "10.0\n",
      "True\n",
      "False\n",
      "<class 'str'>\n",
      "1\n",
      "0.0\n",
      "True\n",
      "-99\n",
      "0.01\n",
      "True\n",
      "None\n",
      "False\n"
     ]
    }
   ],
   "source": [
    "# Conversão dos tipos de dados\n",
    "\n",
    "nascimento = 2000\n",
    "ano_atual = 2023\n",
    "idade = ano_atual - nascimento\n",
    "saida = \"Eu tenho \" + str(idade) + \" anos\" # Convertendo o resultado da operação armazenada na variável \"idade\" em string\n",
    "\n",
    "print(saida)\n",
    "\n",
    "# Conversão do tipo int\n",
    "print(float(10)) # Convertendo no tipo float\n",
    "print(bool(-1)) # Covertendo no tipo booleano. Qualquer valor diferente de 0 sempre retornará True\n",
    "print(bool(0)) # Convertendo no tipo booleano e retornando False\n",
    "print(type(str(999))) # Convertendo em string e verificando o tipo\n",
    "\n",
    "# Conversão do tipo bool\n",
    "print(int(True)) # Resultado de True sempre será 1\n",
    "print(float(False)) # Resultado de False sempre será 0 e nesse caso são adicionadas casas decimais\n",
    "print(str(True)) # Mantém o texto \"True\"\n",
    "\n",
    "# Conversão do tipo str \n",
    "print(int(\"-99\")) # Convertendo em número inteiro\n",
    "print(float('0.01')) # Convertendo em número float\n",
    "print(bool('palavra')) # Convertendo em booleano. Somente retornará False se a string estiver vazia\n",
    "\n",
    "# Particularidades com o tipo None (Só é possível converter em string ou bool)\n",
    "print(str(None)) # Retorna o texto None\n",
    "print(bool(None)) # Sempre retornará False"
   ]
  },
  {
   "cell_type": "code",
   "execution_count": 65,
   "metadata": {},
   "outputs": [
    {
     "name": "stdout",
     "output_type": "stream",
     "text": [
      "Exemplo de f-string com um 10 e uma expressão False\n",
      "Eu tenho 23 anos\n"
     ]
    }
   ],
   "source": [
    "# Formatação de dados\n",
    "\n",
    "# Podemos formatar os dados utilizando f-strings\n",
    "valor = 10\n",
    "expr = 10 == 15\n",
    "print(f'Exemplo de f-string com um {valor} e uma expressão {expr}') # Para iniciar uma f-string devemos seguir a sintaxe f'texto da string {valor a ser inserido}'\n",
    "\n",
    "nascimento = 2000\n",
    "ano_atual = 2023\n",
    "print(f'Eu tenho {ano_atual - nascimento} anos') # Podemos realizar uma operação dentro de um valor da f-string"
   ]
  }
 ],
 "metadata": {
  "kernelspec": {
   "display_name": "Python 3",
   "language": "python",
   "name": "python3"
  },
  "language_info": {
   "codemirror_mode": {
    "name": "ipython",
    "version": 3
   },
   "file_extension": ".py",
   "mimetype": "text/x-python",
   "name": "python",
   "nbconvert_exporter": "python",
   "pygments_lexer": "ipython3",
   "version": "3.10.7"
  },
  "orig_nbformat": 4,
  "vscode": {
   "interpreter": {
    "hash": "37083a178839ddb6837eca99e3841ef7be6dad5dc50c6d19829e2187d61ddd5d"
   }
  }
 },
 "nbformat": 4,
 "nbformat_minor": 2
}
