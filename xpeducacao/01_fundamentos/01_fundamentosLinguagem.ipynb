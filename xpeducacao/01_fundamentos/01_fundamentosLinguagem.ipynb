{
 "cells": [
  {
   "attachments": {},
   "cell_type": "markdown",
   "metadata": {},
   "source": [
    "### Declaração de variáveis"
   ]
  },
  {
   "cell_type": "code",
   "execution_count": 4,
   "metadata": {},
   "outputs": [
    {
     "name": "stdout",
     "output_type": "stream",
     "text": [
      "Lucas 22 1.71\n"
     ]
    }
   ],
   "source": [
    "# Declarando variáveis e utilizando regras de nomeação\n",
    "\n",
    "pessoa = \"Lucas\" # tipo string\n",
    "idade = 22 # tipo int\n",
    "altura = 1.71 # tipo float\n",
    "print(pessoa, idade, altura) # exibindo variáveis\n",
    "\n",
    "# Uma variável pode conter letras e números e é permitido utilizar letras minúsculas e maiúsculas (com preferência nas minúsculas)\n",
    "# Não é permitido usar caracteres especiais, espaços em branco e pontuações (apenas _)\n",
    "# Versões mais recentes do Python suportam letras acentuadas, mas não é recomendado"
   ]
  },
  {
   "attachments": {},
   "cell_type": "markdown",
   "metadata": {},
   "source": [
    "### Principais erros"
   ]
  },
  {
   "cell_type": "code",
   "execution_count": 6,
   "metadata": {},
   "outputs": [
    {
     "name": "stdout",
     "output_type": "stream",
     "text": [
      "São Paulo\n",
      "Brasil\n"
     ]
    },
    {
     "ename": "NameError",
     "evalue": "name 'cidade' is not defined",
     "output_type": "error",
     "traceback": [
      "\u001b[1;31m---------------------------------------------------------------------------\u001b[0m",
      "\u001b[1;31mNameError\u001b[0m                                 Traceback (most recent call last)",
      "Cell \u001b[1;32mIn[6], line 13\u001b[0m\n\u001b[0;32m     11\u001b[0m \u001b[39mprint\u001b[39m(estado)\n\u001b[0;32m     12\u001b[0m \u001b[39mprint\u001b[39m(pais)\n\u001b[1;32m---> 13\u001b[0m \u001b[39mprint\u001b[39m(cidade)\n\u001b[0;32m     15\u001b[0m \u001b[39m# Erros lógicos\u001b[39;00m\n\u001b[0;32m     16\u001b[0m x \u001b[39m=\u001b[39m \u001b[39m5\u001b[39m\n",
      "\u001b[1;31mNameError\u001b[0m: name 'cidade' is not defined"
     ]
    }
   ],
   "source": [
    "# Conhecendo os três principais tipos de erros\n",
    "\n",
    "# Erro de sintaxe\n",
    "x = 3\n",
    "y = 5\n",
    "print x + y # Gera um erro por violação na sintaxe e não executa o código\n",
    "\n",
    "# Erros em tempo de execução são gerados quando há algo de errado enquanto o programa está em execução, mas retornam partes do código onde não há erro\n",
    "estado = \"São Paulo\"\n",
    "pais = \"Brasil\"\n",
    "print(estado)\n",
    "print(pais)\n",
    "print(cidade)\n",
    "\n",
    "# Erros lógicos\n",
    "x = 5\n",
    "y = 7\n",
    "z = 12\n",
    "media = x + y + z / 3 # esse código não lançara um erro, mas a fórmula para calcular a média está incorreta\n",
    "print(media) \n"
   ]
  },
  {
   "attachments": {},
   "cell_type": "markdown",
   "metadata": {},
   "source": [
    "### Tipos de dados"
   ]
  },
  {
   "cell_type": "code",
   "execution_count": 9,
   "metadata": {},
   "outputs": [
    {
     "name": "stdout",
     "output_type": "stream",
     "text": [
      "5 15 464842168465485\n",
      "2.2 7.5 3.14\n",
      "True\n",
      "False\n",
      "São Paulo / Lucas Ferreira\n",
      "Utilizando aspas duplas em um \"texto\"\n",
      "None\n"
     ]
    },
    {
     "data": {
      "text/plain": [
       "int"
      ]
     },
     "execution_count": 9,
     "metadata": {},
     "output_type": "execute_result"
    }
   ],
   "source": [
    "# int: utilizado para representar números inteiros\n",
    "# float: representa números racionais\n",
    "# bool: representa resultados booleanos (True e False)\n",
    "# str: sequência de caracteres que são utilizados para representar palavras, frases e textos\n",
    "# nonetype: assume o valor nulo (None)\n",
    "\n",
    "# exemplos de tipo int\n",
    "x = 5\n",
    "y = 15\n",
    "grande_numero = 464842168465485\n",
    "print(x, y, grande_numero)\n",
    "\n",
    "# exemplos de tipo float\n",
    "a = 2.2\n",
    "b = 7.5\n",
    "pi = 3.14\n",
    "print(a, b, pi)\n",
    "\n",
    "# exemplos do tipo bool\n",
    "pendencia_cnh = True\n",
    "pendencia_documento = False\n",
    "print(pendencia_cnh)\n",
    "print(pendencia_documento)\n",
    "\n",
    "# exemplos do tipo str\n",
    "cidade = 'São Paulo'\n",
    "nome = 'Lucas Ferreira'\n",
    "frase = 'Utilizando aspas duplas em um \"texto\"'\n",
    "print(cidade, \"/\", nome)\n",
    "print(frase)\n",
    "\n",
    "# exemplos do tipo nonetype\n",
    "j = None\n",
    "print(j)\n",
    "\n",
    "# Exemplo função type(): retorna o tipo dos dados armazenados em uma variável\n",
    "type(x)\n"
   ]
  },
  {
   "attachments": {},
   "cell_type": "markdown",
   "metadata": {},
   "source": [
    "### Operadores"
   ]
  },
  {
   "cell_type": "code",
   "execution_count": 8,
   "metadata": {},
   "outputs": [
    {
     "name": "stdout",
     "output_type": "stream",
     "text": [
      "23.5\n",
      "6.5\n",
      "270.0\n",
      "0.8333333333333334\n",
      "3\n",
      "3\n",
      "50625\n"
     ]
    }
   ],
   "source": [
    "# Operadores aritméticos\n",
    "\n",
    "# O Python obedece a precedência PEMDAS (parênteses, exponenciação, multiplicação, divisão, adição e por último subtração)\n",
    "\n",
    "\n",
    "# Operadores Aritméticos\n",
    "x = 15\n",
    "y = 4\n",
    "z = 4.5\n",
    "print(x + y + z) # operação de adição\n",
    "print(x - y - z) # operação de subtração\n",
    "print(x * y * z) # operação de multiplicação\n",
    "print(x / y / z) # operação de divisão com casas decimais\n",
    "print(x // y) # operação de divisão com resultado inteiro\n",
    "print(x % y) # operação que retorna o modulo (resto da divisão)\n",
    "print(x ** y) # operação de exponenciação"
   ]
  },
  {
   "cell_type": "code",
   "execution_count": 13,
   "metadata": {},
   "outputs": [
    {
     "name": "stdout",
     "output_type": "stream",
     "text": [
      "False\n",
      "True\n",
      "True\n",
      "False\n"
     ]
    }
   ],
   "source": [
    "# Operadores de comparação\n",
    "\n",
    "# O resultado de uma operação de comparação é sempre um resultado booleano\n",
    "\n",
    "x = 5\n",
    "y = 3\n",
    "z = \"palavra\"\n",
    "\n",
    "print(x == y) # Compara se x é igual a y\n",
    "print(x != y) # Compara se x é diferente de y\n",
    "print(x > y) # Compara se x é maior que y\n",
    "print(x < y) # Compara se x é menor que y"
   ]
  }
 ],
 "metadata": {
  "kernelspec": {
   "display_name": "Python 3",
   "language": "python",
   "name": "python3"
  },
  "language_info": {
   "codemirror_mode": {
    "name": "ipython",
    "version": 3
   },
   "file_extension": ".py",
   "mimetype": "text/x-python",
   "name": "python",
   "nbconvert_exporter": "python",
   "pygments_lexer": "ipython3",
   "version": "3.10.7"
  },
  "orig_nbformat": 4,
  "vscode": {
   "interpreter": {
    "hash": "37083a178839ddb6837eca99e3841ef7be6dad5dc50c6d19829e2187d61ddd5d"
   }
  }
 },
 "nbformat": 4,
 "nbformat_minor": 2
}
