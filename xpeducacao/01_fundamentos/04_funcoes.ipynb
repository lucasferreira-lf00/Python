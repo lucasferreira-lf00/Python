{
 "cells": [
  {
   "attachments": {},
   "cell_type": "markdown",
   "metadata": {},
   "source": [
    "### Funções em Python"
   ]
  },
  {
   "attachments": {},
   "cell_type": "markdown",
   "metadata": {},
   "source": [
    "###### Durante o desenvolvimento será necessário utilizar uma mesma sequência de códigos múltiplas vezes. As funções tornam esses códigos repetitivos reutilizáveis"
   ]
  },
  {
   "cell_type": "code",
   "execution_count": 1,
   "metadata": {},
   "outputs": [],
   "source": [
    "# Sintaxe das funções\n",
    "# def nome_da_funcao(argumento1, argumento2, ...):\n",
    "#   <bloco de código a ser executado>\n",
    "#   return resultado"
   ]
  },
  {
   "cell_type": "code",
   "execution_count": 6,
   "metadata": {},
   "outputs": [
    {
     "data": {
      "text/plain": [
       "292"
      ]
     },
     "execution_count": 6,
     "metadata": {},
     "output_type": "execute_result"
    }
   ],
   "source": [
    "# declarando uma função para somar os valores de uma lista\n",
    "def soma_lista(lista): # definindo a função e o argumento que ela receberá\n",
    "  soma = 0 # criando uma variável para armazenar as somas\n",
    "  for item in lista: # iterando sobre cada item da lista\n",
    "    soma = soma + item # somando cada item ao valor armazenado na variável\n",
    "  return soma # retornando o resultado da função\n",
    "\n",
    "soma_lista([10, 20, 45, 95, 78, 44])"
   ]
  },
  {
   "cell_type": "code",
   "execution_count": 7,
   "metadata": {},
   "outputs": [],
   "source": [
    "# Utilização de funções. Primeiramente vamos definir três funções\n",
    "\n",
    "def boas_vindas(nome): # função que exibe mensagem de boas-vindas\n",
    "    print(f'Olá { nome}, seja bem-vindo(a)!')\n",
    "\n",
    "def area_quadrado(lado): # função que calcula área de um quadrado\n",
    "    return lado * lado\n",
    "\n",
    "def area_triangulo(base, altura): # função que calcula área de um triângulo\n",
    "    return (base * altura)/2"
   ]
  },
  {
   "cell_type": "code",
   "execution_count": 12,
   "metadata": {},
   "outputs": [
    {
     "name": "stdout",
     "output_type": "stream",
     "text": [
      "Olá Lucas, seja bem-vindo(a)!\n",
      "A área do triângulo é: 10.0\n",
      "A área do quadrado é: 16\n"
     ]
    }
   ],
   "source": [
    "# Realizando a chamada das funções\n",
    "boas_vindas('Lucas')\n",
    "\n",
    "print('A área do triângulo é:', area_triangulo(4, 5))\n",
    "\n",
    "print('A área do quadrado é:', area_quadrado(4))\n"
   ]
  },
  {
   "cell_type": "code",
   "execution_count": 18,
   "metadata": {},
   "outputs": [
    {
     "data": {
      "text/plain": [
       "7.5"
      ]
     },
     "execution_count": 18,
     "metadata": {},
     "output_type": "execute_result"
    }
   ],
   "source": [
    "# Realiza uma divisão. Se o divisor é zero, retorna um erro\n",
    "def div(dividendo, divisor):\n",
    "    if divisor == 0:\n",
    "        print('ERRO: Divisor igual à zero!')\n",
    "        return\n",
    "    else:\n",
    "        return dividendo / divisor\n",
    "\n",
    "div(15, 2)"
   ]
  },
  {
   "cell_type": "code",
   "execution_count": 20,
   "metadata": {},
   "outputs": [
    {
     "name": "stdout",
     "output_type": "stream",
     "text": [
      "ERRO: Divisor igual à zero!\n"
     ]
    }
   ],
   "source": [
    "div(10, 0)"
   ]
  },
  {
   "cell_type": "code",
   "execution_count": 23,
   "metadata": {},
   "outputs": [
    {
     "name": "stdout",
     "output_type": "stream",
     "text": [
      "25.0\n",
      "25.0\n"
     ]
    }
   ],
   "source": [
    "# Podemos inverter a ordem dos argumentos de uma função\n",
    "print(area_triangulo(5, 10)) # Aqui estamos executando a função seguindo as ordens dos argumentos (base depois altura)\n",
    "print(area_triangulo(altura=10, base=5)) # Já aqui estamos invertendo as ordens"
   ]
  },
  {
   "cell_type": "code",
   "execution_count": 27,
   "metadata": {},
   "outputs": [
    {
     "name": "stdout",
     "output_type": "stream",
     "text": [
      "Meu nome é Lucas e tenho 22 anos!\n"
     ]
    }
   ],
   "source": [
    "# Valor default numa função\n",
    "def pessoa(nome, idade=22):\n",
    "    print(f'Meu nome é {nome} e tenho {idade} anos!')\n",
    "\n",
    "pessoa('Lucas') # Chamando a função sem informar idade ele retorna o valor default definido dentro dos argumentos da função"
   ]
  }
 ],
 "metadata": {
  "kernelspec": {
   "display_name": "Python 3",
   "language": "python",
   "name": "python3"
  },
  "language_info": {
   "codemirror_mode": {
    "name": "ipython",
    "version": 3
   },
   "file_extension": ".py",
   "mimetype": "text/x-python",
   "name": "python",
   "nbconvert_exporter": "python",
   "pygments_lexer": "ipython3",
   "version": "3.10.7"
  },
  "orig_nbformat": 4
 },
 "nbformat": 4,
 "nbformat_minor": 2
}
