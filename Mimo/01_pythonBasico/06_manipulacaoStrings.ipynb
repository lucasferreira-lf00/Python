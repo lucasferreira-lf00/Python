{
 "cells": [
  {
   "attachments": {},
   "cell_type": "markdown",
   "metadata": {},
   "source": [
    "### Calculadora de gorjetas"
   ]
  },
  {
   "cell_type": "code",
   "execution_count": 1,
   "metadata": {},
   "outputs": [
    {
     "name": "stdout",
     "output_type": "stream",
     "text": [
      "Valor da gorjeta: R$3.0\n",
      "Valor da taxa: R$1.34\n",
      "Valor total: R$24.34\n"
     ]
    }
   ],
   "source": [
    "# Utilizando os conhecimentos sobre tipos de dados e strings para calcular gorjetas\n",
    "\n",
    "custo_refeicao = 20 # Armazena o valor base da refeição\n",
    "porcentagem_gorjeta = 0.15 # Determina a gorjeta como 15%\n",
    "porcentagem_taxa = 0.067 # Taxa aplicada sobre o custo da refeição\n",
    "\n",
    "# Primeiramente iniciaremos os cálculos\n",
    "gorjeta = custo_refeicao * porcentagem_gorjeta # Valor da gorjeta\n",
    "taxa = custo_refeicao * porcentagem_taxa # Valor da taxa\n",
    "total = custo_refeicao + gorjeta + taxa # Valor total da refeição\n",
    "\n",
    "# Imprimindo os valores\n",
    "print(f\"Valor da gorjeta: R${gorjeta}\")\n",
    "print(f\"Valor da taxa: R${taxa}\")\n",
    "print(f\"Valor total: R${total}\")"
   ]
  },
  {
   "attachments": {},
   "cell_type": "markdown",
   "metadata": {},
   "source": [
    "### Dados de jogo"
   ]
  },
  {
   "cell_type": "code",
   "execution_count": 14,
   "metadata": {},
   "outputs": [
    {
     "name": "stdout",
     "output_type": "stream",
     "text": [
      "Jogo iniciado!\n",
      "Rodada atual: 1\n",
      "Houve um empate entre Lucas e Alex\n",
      "-------------------------------------------\n",
      "Iniciando a rodada 2\n",
      "Lucas é o vencedor da rodada 2 com o placar de 23x15\n"
     ]
    }
   ],
   "source": [
    "# Utilizando f-strings para acompanhar as pontuações de dois jogadores em diferentes rodadas\n",
    "\n",
    "jogador_1 = \"Lucas\" # Armazena o nome do jogador 1\n",
    "jogador_2 = \"Alex\" # Armazena o nome do jogador 2\n",
    "rodada_atual = 1 # Armazena o número da rodada atual\n",
    "\n",
    "print(\"Jogo iniciado!\")\n",
    "print(f\"Rodada atual: {rodada_atual}\")\n",
    "\n",
    "jogador_1_pontuacao = 15 # Pontuação do jogador 1\n",
    "jogador_2_pontuacao = 15 # Pontuação do jogador 2\n",
    "\n",
    "# Condicional para verificar o ganhador da primeira rodada\n",
    "if jogador_1_pontuacao > jogador_2_pontuacao:\n",
    "    print(f\"{jogador_1} é o vencedor da rodada {rodada_atual} com o placar de {jogador_1_pontuacao}x{jogador_2_pontuacao}\")\n",
    "    rodada_atual += 1\n",
    "elif jogador_2_pontuacao > jogador_1_pontuacao:\n",
    "    print(f\"{jogador_2} é o vencedor da rodada {rodada_atual} com o placar de {jogador_2_pontuacao}x{jogador_1_pontuacao}\")\n",
    "    rodada_atual += 1\n",
    "else: \n",
    "    print(f\"Houve um empate entre {jogador_1} e {jogador_2}\")\n",
    "    rodada_atual += 1\n",
    "\n",
    "# Iniciando a segunda rodada\n",
    "print(\"-------------------------------------------\")\n",
    "print(f\"Iniciando a rodada {rodada_atual}\")\n",
    "\n",
    "# Atualizando as pontuações\n",
    "jogador_1_pontuacao = 23\n",
    "jogador_2_pontuacao = 15\n",
    "\n",
    "# Condicional para identificar o vencedor da segunda rodada\n",
    "if jogador_1_pontuacao > jogador_2_pontuacao:\n",
    "    print(f\"{jogador_1} é o vencedor da rodada {rodada_atual} com o placar de {jogador_1_pontuacao}x{jogador_2_pontuacao}\")\n",
    "elif jogador_2_pontuacao > jogador_1_pontuacao:\n",
    "    print(f\"{jogador_2} é o vencedor da rodada {rodada_atual} com o placar de {jogador_2_pontuacao}x{jogador_1_pontuacao}\")\n",
    "else: \n",
    "    print(f\"Houve um empate entre {jogador_1} e {jogador_2}\")"
   ]
  }
 ],
 "metadata": {
  "kernelspec": {
   "display_name": "Python 3",
   "language": "python",
   "name": "python3"
  },
  "language_info": {
   "codemirror_mode": {
    "name": "ipython",
    "version": 3
   },
   "file_extension": ".py",
   "mimetype": "text/x-python",
   "name": "python",
   "nbconvert_exporter": "python",
   "pygments_lexer": "ipython3",
   "version": "3.10.7"
  },
  "orig_nbformat": 4
 },
 "nbformat": 4,
 "nbformat_minor": 2
}
