{
 "cells": [
  {
   "attachments": {},
   "cell_type": "markdown",
   "metadata": {},
   "source": [
    "### Calculadora de gorjetas"
   ]
  },
  {
   "cell_type": "code",
   "execution_count": 3,
   "metadata": {},
   "outputs": [
    {
     "name": "stdout",
     "output_type": "stream",
     "text": [
      "Valor da gorjeta: R$3.0\n",
      "Valor da taxa: R$1.34\n",
      "Valor total: R$24.34\n"
     ]
    }
   ],
   "source": [
    "# Utilizando os conhecimentos sobre tipos de dados e strings para calcular gorjetas\n",
    "\n",
    "custo_refeicao = 20 # Armazena o valor base da refeição\n",
    "porcentagem_gorjeta = 0.15 # Determina a gorjeta como 15%\n",
    "porcentagem_taxa = 0.067 # Taxa aplicada sobre o custo da refeição\n",
    "\n",
    "# Primeiramente iniciaremos os cálculos\n",
    "gorjeta = custo_refeicao * porcentagem_gorjeta # Valor da gorjeta\n",
    "taxa = custo_refeicao * porcentagem_taxa # Valor da taxa\n",
    "total = custo_refeicao + gorjeta + taxa # Valor total da refeição\n",
    "\n",
    "# Imprimindo os valores\n",
    "print(f\"Valor da gorjeta: R${gorjeta}\")\n",
    "print(f\"Valor da taxa: R${taxa}\")\n",
    "print(f\"Valor total: R${total}\")"
   ]
  }
 ],
 "metadata": {
  "kernelspec": {
   "display_name": "Python 3",
   "language": "python",
   "name": "python3"
  },
  "language_info": {
   "codemirror_mode": {
    "name": "ipython",
    "version": 3
   },
   "file_extension": ".py",
   "mimetype": "text/x-python",
   "name": "python",
   "nbconvert_exporter": "python",
   "pygments_lexer": "ipython3",
   "version": "3.10.7"
  },
  "orig_nbformat": 4
 },
 "nbformat": 4,
 "nbformat_minor": 2
}
