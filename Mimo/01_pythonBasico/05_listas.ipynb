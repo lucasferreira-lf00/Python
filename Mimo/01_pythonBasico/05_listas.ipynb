{
 "cells": [
  {
   "attachments": {},
   "cell_type": "markdown",
   "metadata": {},
   "source": [
    "### Monitorar valores de ações"
   ]
  },
  {
   "cell_type": "code",
   "execution_count": 4,
   "metadata": {},
   "outputs": [
    {
     "name": "stdout",
     "output_type": "stream",
     "text": [
      "O valor mais recente é de: R$150\n",
      "O valor mais alto é de: R$311\n",
      "O valor mais baixo é de: R$150\n"
     ]
    }
   ],
   "source": [
    "# O objetivo do sistema é identificar e imprimir o valor de ação mais recente, o maior de todos os tempos e o menor utilizando lista\n",
    "\n",
    "valor_acoes = [249.80, 311, 198.93] # Lista que armazena o valor mais recente da ação, o maior valor e o menor valor respectivamente nessa ordem\n",
    "\n",
    "novo_valor = 150 # Variável que recebe o valor mais recente da ação\n",
    "\n",
    "if novo_valor > valor_acoes[1]: # Verifica se o novo valor é superior ao maior valor antigo\n",
    "    valor_acoes[1] = novo_valor\n",
    "elif novo_valor < valor_acoes[2]: # Verifica se o novo valor é inferior ao menor valor antigo\n",
    "    valor_acoes[2] = novo_valor\n",
    "\n",
    "if novo_valor != valor_acoes[0]: # Verifica se o novo valor é diferente do armazenado no index 0\n",
    "    valor_acoes[0] = novo_valor\n",
    "\n",
    "print(f\"O valor mais recente é de: R${valor_acoes[0]}\")\n",
    "print(f\"O valor mais alto é de: R${valor_acoes[1]}\")\n",
    "print(f\"O valor mais baixo é de: R${valor_acoes[2]}\")\n"
   ]
  },
  {
   "cell_type": "markdown",
   "metadata": {},
   "source": []
  }
 ],
 "metadata": {
  "kernelspec": {
   "display_name": "Python 3",
   "language": "python",
   "name": "python3"
  },
  "language_info": {
   "codemirror_mode": {
    "name": "ipython",
    "version": 3
   },
   "file_extension": ".py",
   "mimetype": "text/x-python",
   "name": "python",
   "nbconvert_exporter": "python",
   "pygments_lexer": "ipython3",
   "version": "3.10.7"
  },
  "orig_nbformat": 4
 },
 "nbformat": 4,
 "nbformat_minor": 2
}
