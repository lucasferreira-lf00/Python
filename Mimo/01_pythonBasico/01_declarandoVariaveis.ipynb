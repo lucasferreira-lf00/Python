{
 "cells": [
  {
   "cell_type": "markdown",
   "metadata": {},
   "source": [
    "### Dados de localização"
   ]
  },
  {
   "cell_type": "code",
   "execution_count": 1,
   "metadata": {},
   "outputs": [],
   "source": [
    "# Utilização de variáveis para registrar dados de localização\n",
    "\n",
    "pais = \"Brasil\" # Declarando variável para receber o país\n",
    "estado = \"São Paulo\" # Declarando variável para receber o estado\n",
    "cidade = \"Franco da Rocha\" # Declarando variável para receber a cidade\n",
    "continente = \"América do Sul\" # Declarando variável para receber o continente"
   ]
  },
  {
   "cell_type": "markdown",
   "metadata": {},
   "source": [
    "### Conversor de quilômetro"
   ]
  },
  {
   "cell_type": "code",
   "execution_count": 2,
   "metadata": {},
   "outputs": [
    {
     "name": "stdout",
     "output_type": "stream",
     "text": [
      "804.672\n"
     ]
    }
   ],
   "source": [
    "# Script para converter milhas em quilometros\n",
    "\n",
    "milhas = 500 # Variável recebe um valor de distância em milhas\n",
    "quilometros = milhas * 1.609344 # Uma milha equivale a 1,609344 quilômetros. Nessa variável realizamos essa conversão\n",
    "\n",
    "print(quilometros) # Exibe o resultado da conversão"
   ]
  },
  {
   "cell_type": "markdown",
   "metadata": {},
   "source": [
    "### Interruptor de luz inteligente"
   ]
  },
  {
   "cell_type": "code",
   "execution_count": 3,
   "metadata": {},
   "outputs": [
    {
     "name": "stdout",
     "output_type": "stream",
     "text": [
      "Está de dia?\n",
      "True\n",
      "Luzes estão acesas?\n",
      "False\n"
     ]
    }
   ],
   "source": [
    "# Script para interruptor de luz inteligente que apaga as luzes se for de dia e acende se for de noite\n",
    "\n",
    "dia = True # Nessa variável estamos verificando se está de dia\n",
    "luzes_acesas = False # Caso esteja de dia, as luzes devem estar apagadas\n",
    "\n",
    "# Imprimindo o resultado da váriavel dia\n",
    "print(\"Está de dia?\")\n",
    "print(dia)\n",
    "\n",
    "# Imprimindo o resultado da váriavel luzes_acesas\n",
    "print(\"Luzes estão acesas?\")\n",
    "print(luzes_acesas)"
   ]
  },
  {
   "cell_type": "markdown",
   "metadata": {},
   "source": [
    "### Rastrear dados de vendas"
   ]
  },
  {
   "cell_type": "code",
   "execution_count": 4,
   "metadata": {},
   "outputs": [
    {
     "name": "stdout",
     "output_type": "stream",
     "text": [
      "A meta de vendas foi atingida: \n",
      "True\n",
      "Jeans em estoque: \n",
      "True\n"
     ]
    }
   ],
   "source": [
    "# Rastreamento de vendas de um varejista de jeans on-line\n",
    "\n",
    "estoque = 600 # Armazenando a quantidade de itens em estoque\n",
    "vendidos = 500 # Armazenando a quantidade de itens vendidos\n",
    "meta = 500 # Definição de uma meta de vendas\n",
    "\n",
    "# Verificando se a meta de vendas foi atingida\n",
    "meta_alcancada = vendidos == meta\n",
    "print(\"A meta de vendas foi atingida: \")\n",
    "print(meta_alcancada)\n",
    "\n",
    "# Verificando a quantidade de itens em estoque\n",
    "estoque_atual = estoque - vendidos # Subtração dos itens vendidos\n",
    "em_estoque = estoque_atual  != 0 # Validação booleana para retornar se há itens em estoque\n",
    "print(\"Jeans em estoque: \")\n",
    "print(em_estoque)\n"
   ]
  }
 ],
 "metadata": {
  "kernelspec": {
   "display_name": "Python 3",
   "language": "python",
   "name": "python3"
  },
  "language_info": {
   "codemirror_mode": {
    "name": "ipython",
    "version": 3
   },
   "file_extension": ".py",
   "mimetype": "text/x-python",
   "name": "python",
   "nbconvert_exporter": "python",
   "pygments_lexer": "ipython3",
   "version": "3.10.7"
  },
  "orig_nbformat": 4
 },
 "nbformat": 4,
 "nbformat_minor": 2
}
