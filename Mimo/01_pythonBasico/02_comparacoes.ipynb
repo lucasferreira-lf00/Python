{
 "cells": [
  {
   "attachments": {},
   "cell_type": "markdown",
   "metadata": {},
   "source": [
    "### Medir dados de frequência cardíaca"
   ]
  },
  {
   "cell_type": "code",
   "execution_count": 3,
   "metadata": {},
   "outputs": [
    {
     "name": "stdout",
     "output_type": "stream",
     "text": [
      "Frequência cardíaca baixa: \n",
      "False\n",
      "Frequência cardíaca alta: \n",
      "False\n"
     ]
    }
   ],
   "source": [
    "# Programa que analisa a frequência cardiáca de um paciente\n",
    "\n",
    "frequencia = 77 # Armazena os batimentos por minuto do paciente\n",
    "\n",
    "frequencia_baixa = frequencia < 60 # Verifica se a frequência cardíaca é menor que 60bpm\n",
    "frequencia_alta = frequencia > 100 # Verifica se a frequência cardíaca é maior que 100bpm\n",
    "\n",
    "# Imprime o resultado das verificações com um valor booleano\n",
    "print(\"Frequência cardíaca baixa: \")\n",
    "print(frequencia_baixa)\n",
    "\n",
    "print(\"Frequência cardíaca alta: \")\n",
    "print(frequencia_alta)"
   ]
  },
  {
   "attachments": {},
   "cell_type": "markdown",
   "metadata": {},
   "source": [
    "### Insights de dados de pesquisa"
   ]
  },
  {
   "cell_type": "code",
   "execution_count": 5,
   "metadata": {},
   "outputs": [
    {
     "name": "stdout",
     "output_type": "stream",
     "text": [
      "Usuário ativo: \n",
      "False\n",
      "Alta intensidade: \n",
      "False\n"
     ]
    }
   ],
   "source": [
    "# Comparação de strings para rotular dados adquiridos através de uma pesquisa de usuário sobre condicionamento físico\n",
    "\n",
    "frequencia = \"Semanal\" # Armazena a frequência de atividades\n",
    "intensidade = \"Baixa\" # Armazena a intensidade das atividades\n",
    "\n",
    "# Compara as strings e imprime o desempenho das atividades\n",
    "\n",
    "alta_frequencia = frequencia == \"Diária\" # Verifica se o valor da variável frequência é igual a \"Diária\"\n",
    "print(\"Usuário ativo: \")\n",
    "print(alta_frequencia)\n",
    "\n",
    "alta_intensidade = intensidade == \"Alta\" # Verifica se o valor da variável intensidade é igual a \"Alta\"\n",
    "print(\"Alta intensidade: \")\n",
    "print(alta_intensidade)"
   ]
  },
  {
   "attachments": {},
   "cell_type": "markdown",
   "metadata": {},
   "source": [
    "### Comparando entradas de conjunto de dados"
   ]
  },
  {
   "cell_type": "code",
   "execution_count": 8,
   "metadata": {},
   "outputs": [
    {
     "name": "stdout",
     "output_type": "stream",
     "text": [
      "Sem identificações duplicadas: \n",
      "True\n",
      "Sem médias duplicadas: \n",
      "False\n",
      "Sem notas duplicadas: \n",
      "True\n"
     ]
    }
   ],
   "source": [
    "# Comparação de notas de dois aluno\n",
    "\n",
    "id_1 = \"#4\" # Variável que armazena o ID do aluno\n",
    "media_semestre_1 = \"A\" # Variável que armazena a média semestral\n",
    "nota_prova_1 = 90 # Variável que armazena a nota da primeira prova\n",
    "\n",
    "id_2 = \"#5\" # Variável que armazena o ID do aluno\n",
    "media_semestre_2 = \"A\" # Variável que armazena a média semestral\n",
    "nota_prova_2 = 70 # Variável que armazena a nota da primeira prova\n",
    "\n",
    "# Inicio das comparações e imprimindo resultados\n",
    "\n",
    "id_duplicado = id_1 != id_2 # Verifica se há duplicatas nas entradas de ID\n",
    "print(\"Sem identificações duplicadas: \")\n",
    "print(id_duplicado)\n",
    "\n",
    "media_duplicada = media_semestre_1 != media_semestre_2 # Verifica se há médias duplicadas\n",
    "print(\"Sem médias duplicadas: \")\n",
    "print(media_duplicada)\n",
    "\n",
    "nota_duplicada = nota_prova_1 != nota_prova_2 # Verifica se há notas duplicadas\n",
    "print(\"Sem notas duplicadas: \")\n",
    "print(nota_duplicada)\n"
   ]
  }
 ],
 "metadata": {
  "kernelspec": {
   "display_name": "Python 3",
   "language": "python",
   "name": "python3"
  },
  "language_info": {
   "codemirror_mode": {
    "name": "ipython",
    "version": 3
   },
   "file_extension": ".py",
   "mimetype": "text/x-python",
   "name": "python",
   "nbconvert_exporter": "python",
   "pygments_lexer": "ipython3",
   "version": "3.10.7"
  },
  "orig_nbformat": 4
 },
 "nbformat": 4,
 "nbformat_minor": 2
}
