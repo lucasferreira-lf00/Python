{
 "cells": [
  {
   "attachments": {},
   "cell_type": "markdown",
   "metadata": {},
   "source": [
    "### Calculadora simples"
   ]
  },
  {
   "cell_type": "code",
   "execution_count": 19,
   "metadata": {},
   "outputs": [
    {
     "name": "stdout",
     "output_type": "stream",
     "text": [
      "10 + 15 = 25\n",
      "10 - 15 = -5\n",
      "10 * 15 = 150\n",
      "10 / 15 = -5\n"
     ]
    }
   ],
   "source": [
    "# Utilizando funções para criar uma calculadora simples que executa somas, subtrações, multiplicações e divisões\n",
    "\n",
    "def calculadora(num1, num2, operador): # Definindo a função e passando os parâmetros\n",
    "\n",
    "# Verificando qual operador foi passado pelo usuário\n",
    "    if operador == \"+\":\n",
    "        total = num1 + num2\n",
    "    elif operador == \"-\":\n",
    "        total = num1 - num2\n",
    "    elif operador == \"*\":\n",
    "        total = num1 * num2\n",
    "    elif operador == \"/\":\n",
    "        total = num1 - num2\n",
    "    # Imprimindo o resultado\n",
    "    print(f\"{num1} {operador} {num2} = {total}\") # Imprimindo o resultado\n",
    "\n",
    "    \n",
    "\n",
    "# Chamando a função com diferentes operadores\n",
    "calculadora(10, 15, \"+\")\n",
    "calculadora(10, 15, \"-\")\n",
    "calculadora(10, 15, \"*\")\n",
    "calculadora(10, 15, \"/\")\n"
   ]
  }
 ],
 "metadata": {
  "kernelspec": {
   "display_name": "Python 3",
   "language": "python",
   "name": "python3"
  },
  "language_info": {
   "codemirror_mode": {
    "name": "ipython",
    "version": 3
   },
   "file_extension": ".py",
   "mimetype": "text/x-python",
   "name": "python",
   "nbconvert_exporter": "python",
   "pygments_lexer": "ipython3",
   "version": "3.10.7"
  },
  "orig_nbformat": 4
 },
 "nbformat": 4,
 "nbformat_minor": 2
}
