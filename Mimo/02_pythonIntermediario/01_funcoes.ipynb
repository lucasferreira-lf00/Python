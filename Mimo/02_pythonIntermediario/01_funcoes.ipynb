{
 "cells": [
  {
   "attachments": {},
   "cell_type": "markdown",
   "metadata": {},
   "source": [
    "### Calculadora simples"
   ]
  },
  {
   "cell_type": "code",
   "execution_count": 19,
   "metadata": {},
   "outputs": [
    {
     "name": "stdout",
     "output_type": "stream",
     "text": [
      "10 + 15 = 25\n",
      "10 - 15 = -5\n",
      "10 * 15 = 150\n",
      "10 / 15 = -5\n"
     ]
    }
   ],
   "source": [
    "# Utilizando funções para criar uma calculadora simples que executa somas, subtrações, multiplicações e divisões\n",
    "\n",
    "def calculadora(num1, num2, operador): # Definindo a função e passando os parâmetros\n",
    "\n",
    "# Verificando qual operador foi passado pelo usuário\n",
    "    if operador == \"+\":\n",
    "        total = num1 + num2\n",
    "    elif operador == \"-\":\n",
    "        total = num1 - num2\n",
    "    elif operador == \"*\":\n",
    "        total = num1 * num2\n",
    "    elif operador == \"/\":\n",
    "        total = num1 - num2\n",
    "    # Imprimindo o resultado\n",
    "    print(f\"{num1} {operador} {num2} = {total}\") # Imprimindo o resultado\n",
    "\n",
    "    \n",
    "\n",
    "# Chamando a função com diferentes operadores\n",
    "calculadora(10, 15, \"+\")\n",
    "calculadora(10, 15, \"-\")\n",
    "calculadora(10, 15, \"*\")\n",
    "calculadora(10, 15, \"/\")\n"
   ]
  },
  {
   "attachments": {},
   "cell_type": "markdown",
   "metadata": {},
   "source": [
    "### Verificador de amigos comuns"
   ]
  },
  {
   "cell_type": "code",
   "execution_count": 9,
   "metadata": {},
   "outputs": [
    {
     "name": "stdout",
     "output_type": "stream",
     "text": [
      "Kim é amigo em comum: False\n"
     ]
    }
   ],
   "source": [
    "# Utilizando funções para descobrir se um usuário é amigo comum entre dois outros usuários\n",
    "\n",
    "# Definindo a função que verifica se o usuario é amigo em comum de dois outros usuários\n",
    "def amigos_em_comum(usuario, amigos_a, amigos_b):\n",
    "    e_amigo_a = amigos_a.count(usuario) >= 1\n",
    "    e_amigo_b = amigos_b.count(usuario) >= 1\n",
    "\n",
    "    e_comum = e_amigo_a & e_amigo_b # Condição que retorna True se ambas as variáveis armazenarem um valor True\n",
    "\n",
    "    return e_comum # Retorna o resultado da função\n",
    "\n",
    "amigos_joe = [\"Sam\", \"Alex\", \"Zoe\"] # Amigos do usuário A\n",
    "amigos_may = [\"Kim\", \"Alex\", \"Cy\", \"Ted\"] # Amigos do usuário B\n",
    "usuario = \"Kim\" # Usuário a ser verificado\n",
    "comum_lucas = amigos_em_comum(usuario, amigos_joe, amigos_may) # Chamando a função e passando os parâmetros\n",
    "print(f\"{usuario} é amigo em comum: {comum_lucas}\")"
   ]
  },
  {
   "attachments": {},
   "cell_type": "markdown",
   "metadata": {},
   "source": [
    "### Codificador morse"
   ]
  },
  {
   "cell_type": "code",
   "execution_count": 14,
   "metadata": {},
   "outputs": [
    {
     "name": "stdout",
     "output_type": "stream",
     "text": [
      "Código inicial: 1 2 2 5 0\n",
      ".---- ..--- ..--- ..... -----\n"
     ]
    }
   ],
   "source": [
    "# Utilizando uma função para converter números em código morse\n",
    "\n",
    "# Definindo a função\n",
    "def converter_para_morse(codigo):\n",
    "\n",
    "    # Convertendo os números em código morse\n",
    "    codigo = codigo.replace(\"1\", \".----\")\n",
    "    codigo = codigo.replace(\"2\", \"..---\")\n",
    "    codigo = codigo.replace(\"3\", \"...--\")\n",
    "    codigo = codigo.replace(\"4\", \"....-\")\n",
    "    codigo = codigo.replace(\"5\", \".....\")\n",
    "    codigo = codigo.replace(\"6\", \"-....\")\n",
    "    codigo = codigo.replace(\"7\", \"--...\")\n",
    "    codigo = codigo.replace(\"8\", \"---..\")\n",
    "    codigo = codigo.replace(\"9\", \"----.\")\n",
    "    codigo = codigo.replace(\"0\", \"-----\")\n",
    "\n",
    "    return codigo # Retorna a conversão\n",
    "\n",
    "codigo_numerico = \"1 2 2 5 0\" # Variável que armazena os números que serão convertidos\n",
    "print(f\"Código inicial: {codigo_numerico}\")\n",
    "\n",
    "morse = converter_para_morse(codigo_numerico) # Chamando a função\n",
    "print(morse)"
   ]
  }
 ],
 "metadata": {
  "kernelspec": {
   "display_name": "Python 3",
   "language": "python",
   "name": "python3"
  },
  "language_info": {
   "codemirror_mode": {
    "name": "ipython",
    "version": 3
   },
   "file_extension": ".py",
   "mimetype": "text/x-python",
   "name": "python",
   "nbconvert_exporter": "python",
   "pygments_lexer": "ipython3",
   "version": "3.10.7"
  },
  "orig_nbformat": 4
 },
 "nbformat": 4,
 "nbformat_minor": 2
}
