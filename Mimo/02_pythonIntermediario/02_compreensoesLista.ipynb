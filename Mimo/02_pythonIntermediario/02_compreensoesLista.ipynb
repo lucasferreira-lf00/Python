{
 "cells": [
  {
   "attachments": {},
   "cell_type": "markdown",
   "metadata": {},
   "source": [
    "#### Marcador de teste em tempo real"
   ]
  },
  {
   "cell_type": "code",
   "execution_count": 10,
   "metadata": {},
   "outputs": [
    {
     "name": "stdout",
     "output_type": "stream",
     "text": [
      "Resposta incorreta, tente novamente.\n",
      "Resposta incorreta, tente novamente.\n",
      "Resposta correta!\n",
      "Resposta correta!\n",
      "Resposta correta!\n",
      "Resposta correta!\n",
      "Resposta correta!\n",
      "Resposta correta!\n",
      "Resposta correta!\n",
      "Resposta correta!\n",
      "Resposta incorreta, tente novamente.\n",
      "Resposta correta!\n",
      "Resposta correta!\n",
      "----------------------------------------\n",
      "Parabéns, você finalizou o questionário!\n",
      "Essas foram suas respostas:\n",
      "Resposta 1: A\n",
      "Resposta 2: B\n",
      "Resposta 3: D\n",
      "Resposta 4: E\n",
      "Resposta 5: C\n",
      "Resposta 6: A\n",
      "Resposta 7: C\n",
      "Resposta 8: D\n",
      "Resposta 9: E\n",
      "Resposta 10: B\n"
     ]
    }
   ],
   "source": [
    "# O objetivo do código é verificar se a resposta atual, utilizando indexação e exclusão negativa, do usuário está correta e caso não, exibir uma mensagem até que ele responda corretamente a questão\n",
    "\n",
    "perguntas = [\"A\", \"B\", \"D\", \"E\", \"C\", \"A\", \"C\", \"D\", \"E\", \"B\"] # Definindo as respostas das perguntas\n",
    "respostas = [] # Lista vazia que armazenará as respostas do usuário\n",
    "\n",
    "contador = len(respostas) # Contador utilizado no loop while\n",
    "\n",
    "# Executa o loop enquanto a quantidade de respostas não for igual a quantidade de perguntas\n",
    "while contador < len(perguntas):\n",
    "    resposta = input(f\"Digite a resposta da {len(respostas)+1}º pergunta: \")\n",
    "    respostas.append(resposta) # Adicionando a resposta do usuário a lista de respostas\n",
    "\n",
    "    # Verifica se a última resposta do usuário é igual ao esperado para a questão atual\n",
    "    if respostas[-1] == perguntas[len(respostas)-1]:\n",
    "        correto = True\n",
    "        print(\"Resposta correta!\")\n",
    "    else:\n",
    "        correto = False\n",
    "        del respostas[-1] # Caso responda incorretamente, a última resposta será excluída e o loop se repetirá até que ele responda corretamente\n",
    "        print(\"Resposta incorreta, tente novamente.\")\n",
    "        \n",
    "    contador = len(respostas) # Atribui ao contador o tamanho da lista de respostas após a condicional\n",
    "    \n",
    "print(\"----------------------------------------\")\n",
    "print(\"Parabéns, você finalizou o questionário!\")\n",
    "print(\"Essas foram suas respostas:\")\n",
    "\n",
    "for i in range(len(respostas)): # Mostra para o usuário as respostas após concluir o teste\n",
    "    print(f\"Resposta {i+1}: {respostas[i]}\")\n"
   ]
  }
 ],
 "metadata": {
  "kernelspec": {
   "display_name": "Python 3",
   "language": "python",
   "name": "python3"
  },
  "language_info": {
   "codemirror_mode": {
    "name": "ipython",
    "version": 3
   },
   "file_extension": ".py",
   "mimetype": "text/x-python",
   "name": "python",
   "nbconvert_exporter": "python",
   "pygments_lexer": "ipython3",
   "version": "3.10.7"
  },
  "orig_nbformat": 4
 },
 "nbformat": 4,
 "nbformat_minor": 2
}
