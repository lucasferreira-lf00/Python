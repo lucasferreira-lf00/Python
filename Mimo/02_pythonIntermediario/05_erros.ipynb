{
 "cells": [
  {
   "cell_type": "markdown",
   "metadata": {},
   "source": [
    "### Calculadora de calorias"
   ]
  },
  {
   "cell_type": "code",
   "execution_count": 6,
   "metadata": {},
   "outputs": [
    {
     "ename": "SyntaxError",
     "evalue": "invalid syntax (2719240741.py, line 5)",
     "output_type": "error",
     "traceback": [
      "\u001b[1;36m  Cell \u001b[1;32mIn[6], line 5\u001b[1;36m\u001b[0m\n\u001b[1;33m    \"pao\": 300,\u001b[0m\n\u001b[1;37m         ^\u001b[0m\n\u001b[1;31mSyntaxError\u001b[0m\u001b[1;31m:\u001b[0m invalid syntax\n"
     ]
    }
   ],
   "source": [
    "# O projeto consiste em identificar os erros do código e corrigir para não resultar em problemas na execução. Abaixo o código fornecido:\n",
    "\n",
    "calorias = {\n",
    "    \"arroz\": # Falta valor para o item \"arroz\"\n",
    "    \"pao\": 300,\n",
    "    \"curry\": 700,\n",
    "    \"salada\": \"100\", # Valor deve ser inteiro, não string\n",
    "    \"molho\": 100,\n",
    "    panqueca - 200 # Faltam aspas e dois pontos para adicionar o item \"panqueca\" ao dicionário\n",
    "}\n",
    "\n",
    "refeicao = [\"arroz\", curry, \"saleda\", \"molho\"] # Erro de digitação em \"saleda\" e a variável \"curry\" não está definida\n",
    "\n",
    "\"total\" == \"\" # Falta definir a variável \"total\" como 0 antes de somar as calorias\n",
    "\n",
    "for item of refeicao # Erro na sintaxe do loop for, deve ser \"for item in refeicao:\"\n",
    "    total += calorias(item) # Deve ser colchetes para indexar o dicionário, não parênteses\n",
    "\n",
    "print(\"Total de calorias na refeição: \" + total) # Precisa converter a variável \"total\" em uma string para concatenar com a mensagem de texto."
   ]
  },
  {
   "cell_type": "code",
   "execution_count": 7,
   "metadata": {},
   "outputs": [
    {
     "name": "stdout",
     "output_type": "stream",
     "text": [
      "Total de calorias na refeição: 1300\n"
     ]
    }
   ],
   "source": [
    "# Código corrigido\n",
    "\n",
    "# O projeto consiste em identificar os erros do código e corrigir para não resultar em problemas na execução. Abaixo o código fornecido:\n",
    "\n",
    "calorias = {\n",
    "    \"arroz\": 400, # Valor ausente corrigido;\n",
    "    \"pao\": 300,\n",
    "    \"curry\": 700,\n",
    "    \"salada\": 100, # Número inteiro armazenado como string corrigido;\n",
    "    \"molho\": 100,\n",
    "    \"panqueca\": 200, # Item adicionado ao dicionário utilizando a estrutura correta;\n",
    "}\n",
    "\n",
    "refeicao = [\"arroz\", \"curry\", \"salada\", \"molho\"] # Curry acrescentado como um item na lista e ortografia de \"salada\" corrigido;\n",
    "\n",
    "total = 0 # Definindo o valor total de calorias da refeição como 0 antes do loop;\n",
    "\n",
    "for item in refeicao: # O loop for deve ser escrito da seguinte forma: \"for item in refeicao:\"\n",
    "    total += calorias[item] # Resolvido o erro gerado pela indexação com parênteses\n",
    "\n",
    "print(\"Total de calorias na refeição: \" + str(total)) # Valor total de calorias convertido em string para possibilitar a concatenação"
   ]
  }
 ],
 "metadata": {
  "kernelspec": {
   "display_name": "Python 3",
   "language": "python",
   "name": "python3"
  },
  "language_info": {
   "codemirror_mode": {
    "name": "ipython",
    "version": 3
   },
   "file_extension": ".py",
   "mimetype": "text/x-python",
   "name": "python",
   "nbconvert_exporter": "python",
   "pygments_lexer": "ipython3",
   "version": "3.10.7"
  },
  "orig_nbformat": 4
 },
 "nbformat": 4,
 "nbformat_minor": 2
}
