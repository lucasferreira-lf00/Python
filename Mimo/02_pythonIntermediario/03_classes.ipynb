{
 "cells": [
  {
   "attachments": {},
   "cell_type": "markdown",
   "metadata": {},
   "source": [
    "### Item de livro"
   ]
  },
  {
   "cell_type": "code",
   "execution_count": 1,
   "metadata": {},
   "outputs": [
    {
     "name": "stdout",
     "output_type": "stream",
     "text": [
      "Harry Potter e as relíquias da morte tem 607 páginas\n",
      "Esse é o 7th da série.\n"
     ]
    }
   ],
   "source": [
    "# Criando uma classe que representa os dados de um livro e instruções de impressão\n",
    "\n",
    "class Livro: # Criando a classe livro e definindo seus detalhes nas variáveis\n",
    "    titulo = \"Harry Potter e as relíquias da morte\"\n",
    "    paginas = 607\n",
    "    numero = \"7th\"\n",
    "    genero = \"fantasia\"\n",
    "    print(f\"{titulo} tem {paginas} páginas\")\n",
    "    print(f\"Esse é o {numero} da série.\")"
   ]
  }
 ],
 "metadata": {
  "kernelspec": {
   "display_name": "Python 3",
   "language": "python",
   "name": "python3"
  },
  "language_info": {
   "codemirror_mode": {
    "name": "ipython",
    "version": 3
   },
   "file_extension": ".py",
   "mimetype": "text/x-python",
   "name": "python",
   "nbconvert_exporter": "python",
   "pygments_lexer": "ipython3",
   "version": "3.10.7"
  },
  "orig_nbformat": 4
 },
 "nbformat": 4,
 "nbformat_minor": 2
}
