{
 "cells": [
  {
   "attachments": {},
   "cell_type": "markdown",
   "metadata": {},
   "source": [
    "### Máquina de venda virtual"
   ]
  },
  {
   "cell_type": "code",
   "execution_count": 15,
   "metadata": {},
   "outputs": [
    {
     "name": "stdout",
     "output_type": "stream",
     "text": [
      "Olá, insira apenas moedas de R$1,00 na máquina.\n",
      "Valor inválido!\n",
      "Valor inválido!\n",
      "Valor recebido: R$1\n",
      "Há disponível: Soda e Guaraná!\n",
      "Você selecionou: Soda\n",
      "Muito obrigado, aproveite seu refrigerante!\n"
     ]
    }
   ],
   "source": [
    "# Cria uma classe chamada \"Maquina\"\n",
    "class Maquina:\n",
    "    # Define duas variáveis de classe: \"pago\" e \"saldo\"\n",
    "    pago = False\n",
    "    saldo = 0\n",
    "\n",
    "    # Método \"ejetar_refrigerante\" que verifica se o usuário já pagou e ejetar o refrigerante se sim\n",
    "    def ejetar_refrigerante(self):\n",
    "        if self.pago == False:\n",
    "            print(\"Por favor, insira dinheiro para continuar a operação\")\n",
    "        else:\n",
    "            print(\"Muito obrigado, aproveite seu refrigerante!\")\n",
    "\n",
    "    # Método \"pagamento\" que atualiza o saldo da máquina\n",
    "    def pagamento(self, valor):\n",
    "        self.saldo += valor\n",
    "        print(f\"Valor recebido: R${self.saldo}\")\n",
    "\n",
    "    # Método \"selecionar_refrigerante\" que permite ao usuário escolher um refrigerante se tiver saldo suficiente\n",
    "    def selecionar_refrigerante(self):\n",
    "        if self.saldo >= 1:\n",
    "            self.pago = True\n",
    "            print(\"Há disponível: Soda e Guaraná!\")\n",
    "            refrigerante = input(\"Qual refrigerante deseja?\")\n",
    "            print(f\"Você selecionou: {refrigerante}\")\n",
    "            self.saldo -= 1\n",
    "        else: \n",
    "            self.pago = False\n",
    "\n",
    "# Mensagem de boas-vindas\n",
    "print(\"Olá, insira apenas moedas de R$1,00 na máquina.\")\n",
    "\n",
    "while True:\n",
    "    # Recebe uma moeda do usuário\n",
    "    recebido = int(input(\"Insira uma moeda na máquina: \"))\n",
    "\n",
    "    # Exemplo de uso da classe Maquina\n",
    "    if recebido == 1:\n",
    "        maquina_refrigerantes = Maquina()\n",
    "        maquina_refrigerantes.pagamento(1)\n",
    "        maquina_refrigerantes.selecionar_refrigerante()\n",
    "        maquina_refrigerantes.ejetar_refrigerante()\n",
    "    else:\n",
    "        print(\"Valor inválido!\")\n",
    "\n",
    "    # Pergunta se o usuário deseja inserir mais uma moeda\n",
    "    continuar = input(\"Deseja inserir mais uma moeda? (s/n) \")\n",
    "    if continuar.lower() == \"n\":\n",
    "        break\n"
   ]
  },
  {
   "attachments": {},
   "cell_type": "markdown",
   "metadata": {},
   "source": [
    "### Calculadora de perímetro"
   ]
  },
  {
   "cell_type": "code",
   "execution_count": 12,
   "metadata": {},
   "outputs": [
    {
     "name": "stdout",
     "output_type": "stream",
     "text": [
      "Olá, seja bem-vindo ao programa para calcular o perímetro de diferentes polígonos. Para iniciar, escolha a opção desejada:\n",
      "1 = Retângulo, 2 = Quadrado e 3 = Triângulo\n",
      "Valor inválido!\n"
     ]
    }
   ],
   "source": [
    "# Definição da classe base Poligono\n",
    "class Poligono:\n",
    "    # Método perimetro que imprime uma mensagem\n",
    "    def perimetro(self):\n",
    "        print(\"Perímetro\")\n",
    "\n",
    "# Definição da classe retangulo que herda da classe Poligono\n",
    "class retangulo(Poligono):\n",
    "    # Método construtor que inicializa o comprimento e a largura do retângulo\n",
    "    def __init__(self, comprimento, largura):\n",
    "        self.comprimento = comprimento\n",
    "        self.largura = largura\n",
    "\n",
    "    # Método perimetro que calcula e retorna o perímetro do retângulo\n",
    "    def perimetro(self):\n",
    "        return 2 * self.comprimento * self.largura\n",
    "    \n",
    "# Definição da classe quadrado que herda da classe Poligono\n",
    "class quadrado(Poligono):\n",
    "    # Método construtor que inicializa o lado do quadrado\n",
    "    def __init__(self, lado):\n",
    "        self.lado = lado\n",
    "\n",
    "    # Método perimetro que calcula e retorna o perímetro do quadrado\n",
    "    def perimetro(self):\n",
    "        return 4 * self.lado\n",
    "    \n",
    "# Definição da classe triangulo que herda da classe Poligono\n",
    "class triangulo(Poligono):\n",
    "    # Método construtor que inicializa os lados do triângulo\n",
    "    def __init__(self, a, b, c):\n",
    "        self.a = a\n",
    "        self.b = b\n",
    "        self.c = c\n",
    "\n",
    "    # Método perimetro que calcula e retorna o perímetro do triângulo\n",
    "    def perimetro(self):\n",
    "        return self.a + self.b + self.c\n",
    "\n",
    "# Mensagem de boas-vindas e solicitação de escolha do usuário\n",
    "print(\"Olá, seja bem-vindo ao programa para calcular o perímetro de diferentes polígonos. Para iniciar, escolha a opção desejada:\")\n",
    "print(\"1 = Retângulo, 2 = Quadrado e 3 = Triângulo\")\n",
    "escolha = input()\n",
    "\n",
    "# Verifica a escolha do usuário e realiza a operação correspondente\n",
    "if escolha == \"1\":\n",
    "    # Solicita os valores do comprimento e largura do retângulo\n",
    "    comprimento = float(input(\"Insira o comprimento:\"))\n",
    "    largura = float(input(\"Insira a largura:\"))\n",
    "    # Instancia um objeto retângulo com os valores inseridos\n",
    "    r = retangulo(comprimento, largura)\n",
    "    # Imprime o resultado do cálculo do perímetro do retângulo\n",
    "    print(\"O perímetro do retângulo é:\", r.perimetro())\n",
    "elif escolha == \"2\":\n",
    "    # Solicita o valor do lado do quadrado\n",
    "    lado = float(input(\"Insira o lado:\"))\n",
    "    # Instancia um objeto quadrado com o valor inserido\n",
    "    q = quadrado(lado)\n",
    "    # Imprime o resultado do cálculo do perímetro do quadrado\n",
    "    print(\"O perímetro do quadrado é:\", q.perimetro())\n",
    "elif escolha == \"3\":\n",
    "    # Solicita os valores dos lados do triângulo\n",
    "    a = float(input(\"Insira o lado a:\"))\n",
    "    b = float(input(\"Insira o lado b:\"))\n",
    "    c = float(input(\"Insira o lado c:\"))\n",
    "    # Instancia um objeto tringulo com o valor inserido\n",
    "    t = triangulo(a, b, c)\n",
    "    # Imprime o resultado do cálculo do perímetro do triangulo\n",
    "    print(\"O perímetro do triangulo é:\", t.perimetro())\n",
    "else:\n",
    "    print(\"Valor inválido!\")\n"
   ]
  }
 ],
 "metadata": {
  "kernelspec": {
   "display_name": "Python 3",
   "language": "python",
   "name": "python3"
  },
  "language_info": {
   "codemirror_mode": {
    "name": "ipython",
    "version": 3
   },
   "file_extension": ".py",
   "mimetype": "text/x-python",
   "name": "python",
   "nbconvert_exporter": "python",
   "pygments_lexer": "ipython3",
   "version": "3.10.7"
  },
  "orig_nbformat": 4
 },
 "nbformat": 4,
 "nbformat_minor": 2
}
