{
 "cells": [
  {
   "attachments": {},
   "cell_type": "markdown",
   "metadata": {},
   "source": [
    "### Máquina de venda virtual"
   ]
  },
  {
   "cell_type": "code",
   "execution_count": 15,
   "metadata": {},
   "outputs": [
    {
     "name": "stdout",
     "output_type": "stream",
     "text": [
      "Olá, insira apenas moedas de R$1,00 na máquina.\n",
      "Valor inválido!\n",
      "Valor inválido!\n",
      "Valor recebido: R$1\n",
      "Há disponível: Soda e Guaraná!\n",
      "Você selecionou: Soda\n",
      "Muito obrigado, aproveite seu refrigerante!\n"
     ]
    }
   ],
   "source": [
    "# Cria uma classe chamada \"Maquina\"\n",
    "class Maquina:\n",
    "    # Define duas variáveis de classe: \"pago\" e \"saldo\"\n",
    "    pago = False\n",
    "    saldo = 0\n",
    "\n",
    "    # Método \"ejetar_refrigerante\" que verifica se o usuário já pagou e ejetar o refrigerante se sim\n",
    "    def ejetar_refrigerante(self):\n",
    "        if self.pago == False:\n",
    "            print(\"Por favor, insira dinheiro para continuar a operação\")\n",
    "        else:\n",
    "            print(\"Muito obrigado, aproveite seu refrigerante!\")\n",
    "\n",
    "    # Método \"pagamento\" que atualiza o saldo da máquina\n",
    "    def pagamento(self, valor):\n",
    "        self.saldo += valor\n",
    "        print(f\"Valor recebido: R${self.saldo}\")\n",
    "\n",
    "    # Método \"selecionar_refrigerante\" que permite ao usuário escolher um refrigerante se tiver saldo suficiente\n",
    "    def selecionar_refrigerante(self):\n",
    "        if self.saldo >= 1:\n",
    "            self.pago = True\n",
    "            print(\"Há disponível: Soda e Guaraná!\")\n",
    "            refrigerante = input(\"Qual refrigerante deseja?\")\n",
    "            print(f\"Você selecionou: {refrigerante}\")\n",
    "            self.saldo -= 1\n",
    "        else: \n",
    "            self.pago = False\n",
    "\n",
    "# Mensagem de boas-vindas\n",
    "print(\"Olá, insira apenas moedas de R$1,00 na máquina.\")\n",
    "\n",
    "while True:\n",
    "    # Recebe uma moeda do usuário\n",
    "    recebido = int(input(\"Insira uma moeda na máquina: \"))\n",
    "\n",
    "    # Exemplo de uso da classe Maquina\n",
    "    if recebido == 1:\n",
    "        maquina_refrigerantes = Maquina()\n",
    "        maquina_refrigerantes.pagamento(1)\n",
    "        maquina_refrigerantes.selecionar_refrigerante()\n",
    "        maquina_refrigerantes.ejetar_refrigerante()\n",
    "    else:\n",
    "        print(\"Valor inválido!\")\n",
    "\n",
    "    # Pergunta se o usuário deseja inserir mais uma moeda\n",
    "    continuar = input(\"Deseja inserir mais uma moeda? (s/n) \")\n",
    "    if continuar.lower() == \"n\":\n",
    "        break\n"
   ]
  }
 ],
 "metadata": {
  "kernelspec": {
   "display_name": "Python 3",
   "language": "python",
   "name": "python3"
  },
  "language_info": {
   "codemirror_mode": {
    "name": "ipython",
    "version": 3
   },
   "file_extension": ".py",
   "mimetype": "text/x-python",
   "name": "python",
   "nbconvert_exporter": "python",
   "pygments_lexer": "ipython3",
   "version": "3.10.7"
  },
  "orig_nbformat": 4
 },
 "nbformat": 4,
 "nbformat_minor": 2
}
