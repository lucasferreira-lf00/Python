{
 "cells": [
  {
   "attachments": {},
   "cell_type": "markdown",
   "metadata": {},
   "source": [
    "### Gerador de cupons"
   ]
  },
  {
   "cell_type": "code",
   "execution_count": 1,
   "metadata": {},
   "outputs": [
    {
     "name": "stdout",
     "output_type": "stream",
     "text": [
      "www.homeflix.com/signunp/coupon/50/0\n",
      "www.homeflix.com/signunp/coupon/50/1\n",
      "www.homeflix.com/signunp/coupon/50/2\n",
      "www.homeflix.com/signunp/coupon/50/3\n",
      "4 cupons criados!\n"
     ]
    }
   ],
   "source": [
    "# O script acelera a criação de vários códigos de cupom de desconto para novos usuários que se inscreverem com o link\n",
    "\n",
    "site = \"www.homeflix.com\" # essa variável armazena o link fictício do nosso site\n",
    "cupom = \"signunp/coupon\" # extensão do link para indicar o cupom para novos usuários\n",
    "desconto = 50 # valor de desconto\n",
    "quantidade = 4 # cupons ofertados\n",
    "\n",
    "# o loop gera os cupons e imprime\n",
    "for num in range(quantidade):\n",
    "    print(f\"{site}/{cupom}/{desconto}/{num}\") \n",
    "\n",
    "print(f\"{quantidade} cupons criados!\")"
   ]
  },
  {
   "attachments": {},
   "cell_type": "markdown",
   "metadata": {},
   "source": [
    "### Calculadora de custos de envio"
   ]
  },
  {
   "cell_type": "code",
   "execution_count": 6,
   "metadata": {},
   "outputs": [
    {
     "name": "stdout",
     "output_type": "stream",
     "text": [
      "Custo de entrega internacional aplicado!\n",
      "O valor do frete é de R$20, totalizando R$170!\n"
     ]
    }
   ],
   "source": [
    "# Código que calcula o custo de envio de acordo com o tipo de entrega\n",
    "\n",
    "entrega_internacional = True # Variável que armazena se a viagem é internacional ou não\n",
    "total = 150 # Total da compra\n",
    "custo_entrega = 0 # Custo de entrega que será atribuido após as verificações condicionais\n",
    "\n",
    "# Verifica se a entrega é internacional e aplica um frete adicional caso positivo\n",
    "if entrega_internacional:\n",
    "    custo_entrega += 15\n",
    "    print(\"Custo de entrega internacional aplicado!\")\n",
    "\n",
    "# Quanto maior o valor da compra, menor o frente! Essa condicional realiza essa verificação e aplica o preço do frete.\n",
    "if total <= 50:\n",
    "    custo_entrega += 20\n",
    "elif total <= 100:\n",
    "    custo_entrega += 15\n",
    "else:\n",
    "    custo_entrega += 5\n",
    "\n",
    "print(f\"O valor do frete é de R${custo_entrega}, totalizando R${total + custo_entrega}!\")"
   ]
  },
  {
   "attachments": {},
   "cell_type": "markdown",
   "metadata": {},
   "source": [
    "### Calculadora de juros compostos"
   ]
  },
  {
   "cell_type": "code",
   "execution_count": 1,
   "metadata": {},
   "outputs": [
    {
     "name": "stdout",
     "output_type": "stream",
     "text": [
      "Valor inicial: R$700\n",
      "Ano 1: R$702.8\n",
      "Ano 2: R$705.6111999999999\n",
      "Ano 3: R$708.4336447999999\n"
     ]
    }
   ],
   "source": [
    "# Utilização de loop while para calcular o ganho de um valor depositado em conta bancária com uma determinada taxa de juros\n",
    "\n",
    "saldo = 700 # Armazena o saldo inicial\n",
    "taxa_de_juros = 0.004 # Taxa de juros aplicada no saldo\n",
    "anos = 3 # Tempo que o dinheiro permanecerá em conta\n",
    "\n",
    "print(f\"Valor inicial: R${saldo}\") # Mostra o valor inicial \n",
    "\n",
    "contador = 1 # O contador tem o objetivo de especificar o ano inicial\n",
    "\n",
    "# O loop ira verificar se o contador é menor ou igual a quantidade de anos, caso seja, aplicará o juros e acrescentará um ano até atingir a condição de interrupção do loop\n",
    "while contador <= anos:\n",
    "    juros = saldo * taxa_de_juros\n",
    "    saldo += juros\n",
    "    print(f\"Ano {contador}: R${saldo}\")\n",
    "    contador += 1"
   ]
  }
 ],
 "metadata": {
  "kernelspec": {
   "display_name": "Python 3",
   "language": "python",
   "name": "python3"
  },
  "language_info": {
   "codemirror_mode": {
    "name": "ipython",
    "version": 3
   },
   "file_extension": ".py",
   "mimetype": "text/x-python",
   "name": "python",
   "nbconvert_exporter": "python",
   "pygments_lexer": "ipython3",
   "version": "3.10.7"
  },
  "orig_nbformat": 4
 },
 "nbformat": 4,
 "nbformat_minor": 2
}
