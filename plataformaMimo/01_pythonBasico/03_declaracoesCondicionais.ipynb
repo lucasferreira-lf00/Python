{
 "cells": [
  {
   "attachments": {},
   "cell_type": "markdown",
   "metadata": {},
   "source": [
    "### Banco de dados de usuários"
   ]
  },
  {
   "cell_type": "code",
   "execution_count": 4,
   "metadata": {},
   "outputs": [
    {
     "name": "stdout",
     "output_type": "stream",
     "text": [
      "Adicionando Lucas ao banco de dados!\n",
      "Operação finalizada!\n"
     ]
    }
   ],
   "source": [
    "# O intuito do script é verificar se um usuário foi cadastrado na nossa base de dados.\n",
    "\n",
    "usuario = \"Lucas\" # Armazena o nome de usuário\n",
    "usuario_adicionado = False # Essa variável verifica se o usuário foi adicionado\n",
    "\n",
    "if usuario_adicionado == False: # Verifica se a adição do usuário não ocorreu\n",
    "    print(f\"Adicionando {usuario} ao banco de dados!\")\n",
    "    usuario_adicionado = True\n",
    "    print(\"Operação finalizada!\")\n",
    "else: # Condição executada caso o usuário já esteja adicionado na base de dados\n",
    "    print(f\"Nome de usuário {usuario} já adicionado!\")    \n",
    "    "
   ]
  },
  {
   "attachments": {},
   "cell_type": "markdown",
   "metadata": {},
   "source": [
    "### Identificando valores discrepantes"
   ]
  },
  {
   "cell_type": "code",
   "execution_count": 9,
   "metadata": {},
   "outputs": [
    {
     "name": "stdout",
     "output_type": "stream",
     "text": [
      "O número 356 não é um outlier\n"
     ]
    }
   ],
   "source": [
    "# Verifica se um número é um outlier (valor atípico)\n",
    "\n",
    "limite_maximo = 500\n",
    "limite_minimo = 50\n",
    "outlier = False\n",
    "valor = 356\n",
    "\n",
    "# Primeiramente o código verifica se o valor está fora dos limites aceitos\n",
    "if valor > limite_maximo:\n",
    "    outlier = True\n",
    "elif valor < limite_minimo:\n",
    "    outlier = True\n",
    "\n",
    "# Aqui verificamos se o número é um outlier\n",
    "if outlier == True:\n",
    "    print(f\"O número {valor} é um outlier\")\n",
    "else:\n",
    "    print(f\"O número {valor} não é um outlier\")\n",
    "\n"
   ]
  },
  {
   "attachments": {},
   "cell_type": "markdown",
   "metadata": {},
   "source": [
    "### Calculador de tarifas de corrida"
   ]
  },
  {
   "cell_type": "code",
   "execution_count": 42,
   "metadata": {},
   "outputs": [
    {
     "name": "stdout",
     "output_type": "stream",
     "text": [
      "Previsão de valor final: R$25.5.\n",
      "Valor reajustado conforme condições da viagem: R$38.25\n"
     ]
    }
   ],
   "source": [
    "# Utilizando condicionais para definir a tarifa de uma corrida de aplicativo\n",
    "\n",
    "tipo_corrida = \"Comfort\"\n",
    "horario_pico = False\n",
    "tempo_chuvoso = True\n",
    "\n",
    "comfort = 1.7\n",
    "economic = 1.3\n",
    "pico = 1.7\n",
    "chuva = 1.5\n",
    "\n",
    "valor_corrida = 15\n",
    "\n",
    "# Iniciaremos verificando qual o tipo de corrida escolhida\n",
    "if tipo_corrida == \"Economic\":\n",
    "    valor_corrida = valor_corrida * economic\n",
    "elif tipo_corrida == \"Comfort\":\n",
    "    valor_corrida = valor_corrida * comfort\n",
    "\n",
    "print(f\"Previsão de valor final: R${valor_corrida}.\")\n",
    "valor_final = valor_corrida # Transformando o valor da corrida em valor final antes de verificar condições da viagem\n",
    "\n",
    "# Verificando se há um aumento na tarifa devido a horário de pico ou tempo chuvoso\n",
    "if horario_pico:\n",
    "    valor_final = valor_final * pico\n",
    "if tempo_chuvoso:\n",
    "    valor_final = valor_final * chuva\n",
    "\n",
    "print(f\"Valor reajustado conforme condições da viagem: R${valor_final}\")"
   ]
  }
 ],
 "metadata": {
  "kernelspec": {
   "display_name": "Python 3",
   "language": "python",
   "name": "python3"
  },
  "language_info": {
   "codemirror_mode": {
    "name": "ipython",
    "version": 3
   },
   "file_extension": ".py",
   "mimetype": "text/x-python",
   "name": "python",
   "nbconvert_exporter": "python",
   "pygments_lexer": "ipython3",
   "version": "3.10.7"
  },
  "orig_nbformat": 4
 },
 "nbformat": 4,
 "nbformat_minor": 2
}
