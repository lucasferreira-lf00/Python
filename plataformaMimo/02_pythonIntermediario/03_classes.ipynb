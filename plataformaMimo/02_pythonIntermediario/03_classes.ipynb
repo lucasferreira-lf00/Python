{
 "cells": [
  {
   "attachments": {},
   "cell_type": "markdown",
   "metadata": {},
   "source": [
    "### Dados de livro"
   ]
  },
  {
   "cell_type": "code",
   "execution_count": 1,
   "metadata": {},
   "outputs": [
    {
     "name": "stdout",
     "output_type": "stream",
     "text": [
      "Harry Potter e as relíquias da morte tem 607 páginas\n",
      "Esse é o 7th da série.\n"
     ]
    }
   ],
   "source": [
    "# Criando uma classe que representa os dados de um livro e instruções de impressão\n",
    "\n",
    "class Livro: # Criando a classe livro e definindo seus detalhes nas variáveis\n",
    "    titulo = \"Harry Potter e as relíquias da morte\"\n",
    "    paginas = 607\n",
    "    numero = \"7th\"\n",
    "    genero = \"fantasia\"\n",
    "    print(f\"{titulo} tem {paginas} páginas\")\n",
    "    print(f\"Esse é o {numero} da série.\")"
   ]
  },
  {
   "attachments": {},
   "cell_type": "markdown",
   "metadata": {},
   "source": [
    "### Lista de filme"
   ]
  },
  {
   "cell_type": "code",
   "execution_count": 2,
   "metadata": {},
   "outputs": [
    {
     "name": "stdout",
     "output_type": "stream",
     "text": [
      "Filme: Toy Story 3\n",
      "Início: 4:45pm\n",
      "Término: 6:32pm\n"
     ]
    }
   ],
   "source": [
    "# Criando uma classe \"filme\" que exibe o filme atual em exibição em uma sala de cinema\n",
    "\n",
    "class Filme: # Definindo a classe \"Filme\" e seus atributos nas variáveis\n",
    "    nome = \"Toy Story 3\"\n",
    "    horario_inicio = \"4:45pm\"\n",
    "    horario_final = \"6:32pm\"\n",
    "\n",
    "filme = Filme() # Armazenando a classe na instância filme e imprimindo\n",
    "print(f\"Filme: {filme.nome}\")\n",
    "print(f\"Início: {filme.horario_inicio}\")\n",
    "print(f\"Término: {filme.horario_final}\")"
   ]
  },
  {
   "attachments": {},
   "cell_type": "markdown",
   "metadata": {},
   "source": [
    "### Criador de personagem"
   ]
  },
  {
   "cell_type": "code",
   "execution_count": 5,
   "metadata": {},
   "outputs": [
    {
     "name": "stdout",
     "output_type": "stream",
     "text": [
      "It's a me, Mario!\n",
      "------------------------\n",
      "Nível aumentado para 2\n",
      "------------------------\n",
      "Vida diminuiu de 100\n",
      "para 90\n",
      "------------------------\n"
     ]
    }
   ],
   "source": [
    "# Criando uma classe para definir um personagem de um jogo\n",
    "\n",
    "class Personagem: # Definindo a classe e métodos que contém as características do personagem\n",
    "    nome = \"Mario\"\n",
    "    frase = \"It's a me, Mario!\"\n",
    "    nivel = 1\n",
    "    vida = 100\n",
    "\n",
    "    def saudar(self): # Método que exibe a frase do personagem\n",
    "        print(self.frase)\n",
    "        print(\"------------------------\")\n",
    "    \n",
    "    def subir_nivel(self): # Método que imprime um aumento de nível\n",
    "        self.nivel += 1\n",
    "        print(\"Nível aumentado para\", self.nivel)\n",
    "        print(\"------------------------\")\n",
    "    \n",
    "    def vida_diminuiu(self): # Método que imprime quando o personagem perde vida\n",
    "        print(f\"Vida diminuiu de {self.vida}\")\n",
    "        self.vida -= 10\n",
    "        print(f\"para {self.vida}\")\n",
    "        print(\"------------------------\")\n",
    "\n",
    "mario = Personagem() # Armazenando a classe na instância mario\n",
    "# Chamando os métodos\n",
    "mario.saudar()\n",
    "mario.subir_nivel()\n",
    "mario.vida_diminuiu()"
   ]
  }
 ],
 "metadata": {
  "kernelspec": {
   "display_name": "Python 3",
   "language": "python",
   "name": "python3"
  },
  "language_info": {
   "codemirror_mode": {
    "name": "ipython",
    "version": 3
   },
   "file_extension": ".py",
   "mimetype": "text/x-python",
   "name": "python",
   "nbconvert_exporter": "python",
   "pygments_lexer": "ipython3",
   "version": "3.10.7"
  },
  "orig_nbformat": 4
 },
 "nbformat": 4,
 "nbformat_minor": 2
}
